{
  "nbformat": 4,
  "nbformat_minor": 0,
  "metadata": {
    "colab": {
      "name": "Material de apoio - Python.ipynb",
      "provenance": [],
      "authorship_tag": "ABX9TyMpZ2TGdd5iFUFRhQk3c1c+",
      "include_colab_link": true
    },
    "kernelspec": {
      "name": "python3",
      "display_name": "Python 3"
    },
    "language_info": {
      "name": "python"
    }
  },
  "cells": [
    {
      "cell_type": "markdown",
      "metadata": {
        "id": "view-in-github",
        "colab_type": "text"
      },
      "source": [
        "<a href=\"https://colab.research.google.com/github/Junior-Mendes/WebScraping/blob/main/Material_de_apoio_Python.ipynb\" target=\"_parent\"><img src=\"https://colab.research.google.com/assets/colab-badge.svg\" alt=\"Open In Colab\"/></a>"
      ]
    },
    {
      "cell_type": "markdown",
      "metadata": {
        "id": "PAYOXmRDeelm"
      },
      "source": [
        "# Rascunhos em python\n",
        "---------------------"
      ]
    },
    {
      "cell_type": "markdown",
      "metadata": {
        "id": "1LNu4Ry2eqQt"
      },
      "source": [
        "### Operadores"
      ]
    },
    {
      "cell_type": "code",
      "metadata": {
        "id": "092dfFgcesSC"
      },
      "source": [
        "a = 3\n",
        "b = 5"
      ],
      "execution_count": null,
      "outputs": []
    },
    {
      "cell_type": "code",
      "metadata": {
        "colab": {
          "base_uri": "https://localhost:8080/"
        },
        "id": "9jeieyWwexzL",
        "outputId": "0e44b985-356c-416a-f496-8c59d2bcc8e1"
      },
      "source": [
        "a + b"
      ],
      "execution_count": null,
      "outputs": [
        {
          "output_type": "execute_result",
          "data": {
            "text/plain": [
              "8"
            ]
          },
          "metadata": {
            "tags": []
          },
          "execution_count": 2
        }
      ]
    },
    {
      "cell_type": "code",
      "metadata": {
        "colab": {
          "base_uri": "https://localhost:8080/"
        },
        "id": "BO-wAsK0ezy7",
        "outputId": "49ce69e6-c482-4406-ffa5-cd62cf502f99"
      },
      "source": [
        "a - b"
      ],
      "execution_count": null,
      "outputs": [
        {
          "output_type": "execute_result",
          "data": {
            "text/plain": [
              "-2"
            ]
          },
          "metadata": {
            "tags": []
          },
          "execution_count": 3
        }
      ]
    },
    {
      "cell_type": "markdown",
      "metadata": {
        "id": "ePKQszlge14T"
      },
      "source": [
        "etc.."
      ]
    }
  ]
}