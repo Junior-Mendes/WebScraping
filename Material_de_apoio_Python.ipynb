{
  "nbformat": 4,
  "nbformat_minor": 0,
  "metadata": {
    "colab": {
      "name": " Material de apoio - Python.ipynb",
      "provenance": [],
      "collapsed_sections": [],
      "include_colab_link": true
    },
    "kernelspec": {
      "name": "python3",
      "display_name": "Python 3"
    },
    "language_info": {
      "name": "python"
    }
  },
  "cells": [
    {
      "cell_type": "markdown",
      "metadata": {
        "id": "view-in-github",
        "colab_type": "text"
      },
      "source": [
        "<a href=\"https://colab.research.google.com/github/Junior-Mendes/WebScraping/blob/main/Material_de_apoio_Python.ipynb\" target=\"_parent\"><img src=\"https://colab.research.google.com/assets/colab-badge.svg\" alt=\"Open In Colab\"/></a>"
      ]
    },
    {
      "cell_type": "markdown",
      "metadata": {
        "id": "PAYOXmRDeelm"
      },
      "source": [
        "# Rascunhos em python\n",
        "---------------------"
      ]
    },
    {
      "cell_type": "markdown",
      "metadata": {
        "id": "1LNu4Ry2eqQt"
      },
      "source": [
        "### Operadores"
      ]
    },
    {
      "cell_type": "code",
      "metadata": {
        "id": "092dfFgcesSC"
      },
      "source": [
        "a = 4\n",
        "b = 5"
      ],
      "execution_count": null,
      "outputs": []
    },
    {
      "cell_type": "code",
      "metadata": {
        "colab": {
          "base_uri": "https://localhost:8080/"
        },
        "id": "9jeieyWwexzL",
        "outputId": "66f7a056-b719-43fe-d338-1e5c18424bf2"
      },
      "source": [
        "a + b"
      ],
      "execution_count": null,
      "outputs": [
        {
          "output_type": "execute_result",
          "data": {
            "text/plain": [
              "9"
            ]
          },
          "metadata": {
            "tags": []
          },
          "execution_count": 2
        }
      ]
    },
    {
      "cell_type": "code",
      "metadata": {
        "colab": {
          "base_uri": "https://localhost:8080/"
        },
        "id": "BO-wAsK0ezy7",
        "outputId": "422f12f5-70ad-4d69-fe72-c15977e1e4d2"
      },
      "source": [
        "a * b"
      ],
      "execution_count": null,
      "outputs": [
        {
          "output_type": "execute_result",
          "data": {
            "text/plain": [
              "20"
            ]
          },
          "metadata": {
            "tags": []
          },
          "execution_count": 3
        }
      ]
    },
    {
      "cell_type": "markdown",
      "metadata": {
        "id": "HwyQMxr-pRKY"
      },
      "source": [
        "### Condições"
      ]
    },
    {
      "cell_type": "code",
      "metadata": {
        "id": "2lyYZD4sqsb0",
        "colab": {
          "base_uri": "https://localhost:8080/"
        },
        "outputId": "d8b801e1-c6cf-4377-ca57-ac2b4a373ea8"
      },
      "source": [
        "'''\n",
        "Várias opções de prints.\n",
        "Acho que o que mais usam é o segundo. -> print(f'Escreva o que quiser com {variável} entre chaves.')\n",
        "'''\n",
        "nome='junior'\n",
        "empresa = 'Deltta'\n",
        "# idade = int(input('Digite a sua idade Júnior: '))\n",
        "idade = 25\n",
        "qtde_funcionarios=int(10)\n",
        "#print(nome,\"tem\",str(idade), \"anos\", \"e trabalha na empresa\", empresa, \"que tem\", qtde_funcionarios,\"funcionários\" )\n",
        "\n",
        "if idade >=18:\n",
        "  # print(nome,\"tem\",str(idade), \"anos\",'é maior de idade', \"e trabalha na empresa\", empresa, \"que tem\", qtde_funcionarios,\"funcionários\")\n",
        "  print(f'{nome} tem {idade} anos, é maior de idade e trabalha na empresa {empresa} que tem {qtde_funcionarios} funcionários')\n",
        "  \n",
        "else:\n",
        "  print(nome + ' tem ' + str(idade) + ' anos, é menor de idade e não trabalha.')\n",
        "  # print(nome,\"tem\",str(idade), \"anos\",'é menor de idade', \"e não trabalha.\")\n"
      ],
      "execution_count": null,
      "outputs": [
        {
          "output_type": "stream",
          "text": [
            "Digite a sua idade Júnior: 25\n",
            "junior tem 25 anos, é maior de idade e trabalha na empresa Deltta que tem 10 funcionários\n"
          ],
          "name": "stdout"
        }
      ]
    },
    {
      "cell_type": "markdown",
      "metadata": {
        "id": "gMN0ffLYKJrr"
      },
      "source": [
        "### Listas"
      ]
    },
    {
      "cell_type": "code",
      "metadata": {
        "id": "3jBkQXw8KMEA",
        "colab": {
          "base_uri": "https://localhost:8080/"
        },
        "outputId": "0080dcd1-9406-4e9b-9dd1-0d253a7e809d"
      },
      "source": [
        "#Na lista permite inserir, remover, editar os elementos.\n",
        "lista = [1,2,3,4,5,6] #define a lista\n",
        "len(lista) #informa o tamanho da lista\n"
      ],
      "execution_count": null,
      "outputs": [
        {
          "output_type": "execute_result",
          "data": {
            "text/plain": [
              "6"
            ]
          },
          "metadata": {
            "tags": []
          },
          "execution_count": 5
        }
      ]
    },
    {
      "cell_type": "code",
      "metadata": {
        "colab": {
          "base_uri": "https://localhost:8080/"
        },
        "id": "SQny1_8vkhu6",
        "outputId": "8a202290-05b8-4660-feb6-b39e30ec11e9"
      },
      "source": [
        "lista #imprime a lisa na tela"
      ],
      "execution_count": null,
      "outputs": [
        {
          "output_type": "execute_result",
          "data": {
            "text/plain": [
              "[1, 2, 3, 4, 5, 6]"
            ]
          },
          "metadata": {
            "tags": []
          },
          "execution_count": 6
        }
      ]
    },
    {
      "cell_type": "code",
      "metadata": {
        "colab": {
          "base_uri": "https://localhost:8080/"
        },
        "id": "IxgaVhtWkjmg",
        "outputId": "4e524fb6-8d09-479a-838d-63addab62387"
      },
      "source": [
        "lista[2] #imprime a posição do objeto na lista"
      ],
      "execution_count": null,
      "outputs": [
        {
          "output_type": "execute_result",
          "data": {
            "text/plain": [
              "3"
            ]
          },
          "metadata": {
            "tags": []
          },
          "execution_count": 7
        }
      ]
    },
    {
      "cell_type": "code",
      "metadata": {
        "colab": {
          "base_uri": "https://localhost:8080/"
        },
        "id": "d7tlSUlzklbQ",
        "outputId": "c60ba03c-94c5-4c2b-9af3-876a8c6c467e"
      },
      "source": [
        "lista.append(7) #adiciona um item na lista\n",
        "lista"
      ],
      "execution_count": null,
      "outputs": [
        {
          "output_type": "execute_result",
          "data": {
            "text/plain": [
              "[1, 2, 3, 4, 5, 6, 7]"
            ]
          },
          "metadata": {
            "tags": []
          },
          "execution_count": 8
        }
      ]
    },
    {
      "cell_type": "code",
      "metadata": {
        "colab": {
          "base_uri": "https://localhost:8080/"
        },
        "id": "9ymsTuKzkoUA",
        "outputId": "148b2dbf-1015-4b24-9d7f-220c76349b82"
      },
      "source": [
        "lista.remove(7) #remove um item da lista\n",
        "lista"
      ],
      "execution_count": null,
      "outputs": [
        {
          "output_type": "execute_result",
          "data": {
            "text/plain": [
              "[1, 2, 3, 4, 5, 6]"
            ]
          },
          "metadata": {
            "tags": []
          },
          "execution_count": 9
        }
      ]
    },
    {
      "cell_type": "code",
      "metadata": {
        "colab": {
          "base_uri": "https://localhost:8080/"
        },
        "id": "LcB-vyXYkqFY",
        "outputId": "512b42ed-81fd-40b7-f8ef-fd348b722876"
      },
      "source": [
        "lista.append(7)\n",
        "lista\n"
      ],
      "execution_count": null,
      "outputs": [
        {
          "output_type": "execute_result",
          "data": {
            "text/plain": [
              "[1, 2, 3, 4, 5, 6, 7]"
            ]
          },
          "metadata": {
            "tags": []
          },
          "execution_count": 10
        }
      ]
    },
    {
      "cell_type": "code",
      "metadata": {
        "colab": {
          "base_uri": "https://localhost:8080/"
        },
        "id": "wGjHzY9DkssC",
        "outputId": "42cbaa1d-1d2c-42ed-bad9-d06db70bb8cf"
      },
      "source": [
        "lista.pop(6) #remove um item da lista pela posição\n",
        "lista"
      ],
      "execution_count": null,
      "outputs": [
        {
          "output_type": "execute_result",
          "data": {
            "text/plain": [
              "[1, 2, 3, 4, 5, 6]"
            ]
          },
          "metadata": {
            "tags": []
          },
          "execution_count": 11
        }
      ]
    },
    {
      "cell_type": "code",
      "metadata": {
        "colab": {
          "base_uri": "https://localhost:8080/"
        },
        "id": "3r2di_FVku6g",
        "outputId": "c237bc7a-1255-4095-87b7-1a2bba6ef3e8"
      },
      "source": [
        "lista[-1] # mostra o último item da lista"
      ],
      "execution_count": null,
      "outputs": [
        {
          "output_type": "execute_result",
          "data": {
            "text/plain": [
              "6"
            ]
          },
          "metadata": {
            "tags": []
          },
          "execution_count": 12
        }
      ]
    },
    {
      "cell_type": "code",
      "metadata": {
        "colab": {
          "base_uri": "https://localhost:8080/"
        },
        "id": "THQ5si-EkxuQ",
        "outputId": "cc4cdd16-0cb6-4b2e-8438-fbf11f976f90"
      },
      "source": [
        "lista[0:4] # Mostra os 4 primeiros elementos.. o segundo termo (4) é esclusivo"
      ],
      "execution_count": null,
      "outputs": [
        {
          "output_type": "execute_result",
          "data": {
            "text/plain": [
              "[1, 2, 3, 4]"
            ]
          },
          "metadata": {
            "tags": []
          },
          "execution_count": 13
        }
      ]
    },
    {
      "cell_type": "code",
      "metadata": {
        "colab": {
          "base_uri": "https://localhost:8080/"
        },
        "id": "O3LbwNayk6yB",
        "outputId": "2d8278f3-96e4-4e97-8c50-654eb3a773b3"
      },
      "source": [
        "lista[0:-3] # Mostra todos elementos com exceção dos 3 últimos"
      ],
      "execution_count": null,
      "outputs": [
        {
          "output_type": "execute_result",
          "data": {
            "text/plain": [
              "[1, 2, 3]"
            ]
          },
          "metadata": {
            "tags": []
          },
          "execution_count": 14
        }
      ]
    },
    {
      "cell_type": "markdown",
      "metadata": {
        "id": "iR8C5ym-lHcy"
      },
      "source": [
        "### Tuplas\n",
        "Tuplas não são modificáveis (não é permitido inserção, remoção, etc)."
      ]
    },
    {
      "cell_type": "code",
      "metadata": {
        "colab": {
          "base_uri": "https://localhost:8080/"
        },
        "id": "_QE8FxcFkdLB",
        "outputId": "d2140b29-e767-40a2-c327-68222a42af88"
      },
      "source": [
        "tupla = (20, 10, 30)\n",
        "tupla"
      ],
      "execution_count": null,
      "outputs": [
        {
          "output_type": "execute_result",
          "data": {
            "text/plain": [
              "(20, 10, 30)"
            ]
          },
          "metadata": {
            "tags": []
          },
          "execution_count": 15
        }
      ]
    },
    {
      "cell_type": "code",
      "metadata": {
        "colab": {
          "base_uri": "https://localhost:8080/"
        },
        "id": "e35ioYS3lQxI",
        "outputId": "f5dd1b57-8dea-4b30-a5dc-f58bf89b9dda"
      },
      "source": [
        "len(tupla)"
      ],
      "execution_count": null,
      "outputs": [
        {
          "output_type": "execute_result",
          "data": {
            "text/plain": [
              "3"
            ]
          },
          "metadata": {
            "tags": []
          },
          "execution_count": 16
        }
      ]
    },
    {
      "cell_type": "code",
      "metadata": {
        "colab": {
          "base_uri": "https://localhost:8080/"
        },
        "id": "d07ExJKRlUKL",
        "outputId": "172d3747-dd44-4025-8615-468bb3576c6d"
      },
      "source": [
        "tupla[0]"
      ],
      "execution_count": null,
      "outputs": [
        {
          "output_type": "execute_result",
          "data": {
            "text/plain": [
              "20"
            ]
          },
          "metadata": {
            "tags": []
          },
          "execution_count": 17
        }
      ]
    },
    {
      "cell_type": "markdown",
      "metadata": {
        "id": "fz-4PxbamaVu"
      },
      "source": [
        "É possível converter listas em tuplas e tuplas em listas"
      ]
    },
    {
      "cell_type": "code",
      "metadata": {
        "colab": {
          "base_uri": "https://localhost:8080/"
        },
        "id": "CfK8xzdAlPBo",
        "outputId": "3086638a-cff3-44e5-b5ca-f62f4cf4c083"
      },
      "source": [
        "lista_da_tupla = list(tupla) # Converter variáveis em lista\n",
        "lista_da_tupla"
      ],
      "execution_count": null,
      "outputs": [
        {
          "output_type": "execute_result",
          "data": {
            "text/plain": [
              "[20, 10, 30]"
            ]
          },
          "metadata": {
            "tags": []
          },
          "execution_count": 18
        }
      ]
    },
    {
      "cell_type": "code",
      "metadata": {
        "colab": {
          "base_uri": "https://localhost:8080/"
        },
        "id": "nYRNVE27lYrJ",
        "outputId": "cd078160-ccb1-4088-dbfe-b874a1ac9b7d"
      },
      "source": [
        "type(lista_da_tupla)"
      ],
      "execution_count": null,
      "outputs": [
        {
          "output_type": "execute_result",
          "data": {
            "text/plain": [
              "list"
            ]
          },
          "metadata": {
            "tags": []
          },
          "execution_count": 19
        }
      ]
    },
    {
      "cell_type": "code",
      "metadata": {
        "colab": {
          "base_uri": "https://localhost:8080/"
        },
        "id": "B3NUqU-Xlhtn",
        "outputId": "6a1bc459-25b4-43b1-ea1d-d38c55a29783"
      },
      "source": [
        "tupla_da_lista = tuple(lista) # Converter lista em tupla\n",
        "tupla_da_lista"
      ],
      "execution_count": null,
      "outputs": [
        {
          "output_type": "execute_result",
          "data": {
            "text/plain": [
              "(1, 2, 3, 4, 5, 6)"
            ]
          },
          "metadata": {
            "tags": []
          },
          "execution_count": 20
        }
      ]
    },
    {
      "cell_type": "code",
      "metadata": {
        "colab": {
          "base_uri": "https://localhost:8080/"
        },
        "id": "glshEMO6louD",
        "outputId": "48c6c841-bec4-4ff1-fdee-5b26e354cf8a"
      },
      "source": [
        "type(tupla_da_lista)"
      ],
      "execution_count": null,
      "outputs": [
        {
          "output_type": "execute_result",
          "data": {
            "text/plain": [
              "tuple"
            ]
          },
          "metadata": {
            "tags": []
          },
          "execution_count": 21
        }
      ]
    },
    {
      "cell_type": "markdown",
      "metadata": {
        "id": "E_ffQU-iKObf"
      },
      "source": [
        "### Dicionários\n",
        "\n",
        "Não consigo acessar por índices igual a lista (p.ex.: lista[2]). É preciso saber o nome da chave ou do valor para acessá-los."
      ]
    },
    {
      "cell_type": "code",
      "metadata": {
        "id": "IQhAvoxpKRJP",
        "colab": {
          "base_uri": "https://localhost:8080/"
        },
        "outputId": "a5de405a-b40d-4b3f-c264-6f286fa92b39"
      },
      "source": [
        "#DICIONÁRIOS SÃO FORMADOS POR CHAVE VALOR, COMO NO EXEMPLO A CHAVE 'MARCOS' ESTÁ ASSOCIADO AO VALOR 28\n",
        "d = {'Marcos':28, 'Joao':30, 'Maria':18}\n",
        "d"
      ],
      "execution_count": null,
      "outputs": [
        {
          "output_type": "execute_result",
          "data": {
            "text/plain": [
              "{'Joao': 30, 'Marcos': 28, 'Maria': 18}"
            ]
          },
          "metadata": {
            "tags": []
          },
          "execution_count": 22
        }
      ]
    },
    {
      "cell_type": "code",
      "metadata": {
        "colab": {
          "base_uri": "https://localhost:8080/"
        },
        "id": "kIqPfP1Eml3X",
        "outputId": "b79d4f70-63b4-4ace-a61b-f064db17bdea"
      },
      "source": [
        "type(d)"
      ],
      "execution_count": null,
      "outputs": [
        {
          "output_type": "execute_result",
          "data": {
            "text/plain": [
              "dict"
            ]
          },
          "metadata": {
            "tags": []
          },
          "execution_count": 23
        }
      ]
    },
    {
      "cell_type": "code",
      "metadata": {
        "colab": {
          "base_uri": "https://localhost:8080/"
        },
        "id": "qMrKdXhXmoHo",
        "outputId": "58bb5a7b-a486-4c76-b6e4-acde54162fc9"
      },
      "source": [
        "d['Marcos']"
      ],
      "execution_count": null,
      "outputs": [
        {
          "output_type": "execute_result",
          "data": {
            "text/plain": [
              "28"
            ]
          },
          "metadata": {
            "tags": []
          },
          "execution_count": 24
        }
      ]
    },
    {
      "cell_type": "markdown",
      "metadata": {
        "id": "JrtIPJjcKTLL"
      },
      "source": [
        "### Conjuntos"
      ]
    },
    {
      "cell_type": "code",
      "metadata": {
        "id": "os2CawKOKVbC",
        "colab": {
          "base_uri": "https://localhost:8080/"
        },
        "outputId": "3cb8fc16-51ac-4bbb-e623-c0d3a2429084"
      },
      "source": [
        "#Conjuntos é uma coleção não ordenada que não possui elementos duplicados, ele não garante a ordem.\n",
        "\n",
        "c = {'pedro', 'marcos','marcos', 'joao'}\n",
        "c"
      ],
      "execution_count": null,
      "outputs": [
        {
          "output_type": "execute_result",
          "data": {
            "text/plain": [
              "{'joao', 'marcos', 'pedro'}"
            ]
          },
          "metadata": {
            "tags": []
          },
          "execution_count": 25
        }
      ]
    },
    {
      "cell_type": "code",
      "metadata": {
        "id": "dUtZ0LANnBbo",
        "colab": {
          "base_uri": "https://localhost:8080/"
        },
        "outputId": "82a8a270-ca10-4176-e974-17a79e04a47c"
      },
      "source": [
        "len(c)"
      ],
      "execution_count": null,
      "outputs": [
        {
          "output_type": "execute_result",
          "data": {
            "text/plain": [
              "3"
            ]
          },
          "metadata": {
            "tags": []
          },
          "execution_count": 26
        }
      ]
    },
    {
      "cell_type": "code",
      "metadata": {
        "id": "qhJwT_SbnDev",
        "colab": {
          "base_uri": "https://localhost:8080/"
        },
        "outputId": "238953a1-06c4-4de6-a858-d688f6ac0fdd"
      },
      "source": [
        "'joao' in c"
      ],
      "execution_count": null,
      "outputs": [
        {
          "output_type": "execute_result",
          "data": {
            "text/plain": [
              "True"
            ]
          },
          "metadata": {
            "tags": []
          },
          "execution_count": 27
        }
      ]
    },
    {
      "cell_type": "code",
      "metadata": {
        "id": "Xz6bVaS3nF1g",
        "colab": {
          "base_uri": "https://localhost:8080/"
        },
        "outputId": "7d1bbc13-b3b2-431c-ecfd-f4c337035b36"
      },
      "source": [
        "c.add('junior')\n",
        "c"
      ],
      "execution_count": null,
      "outputs": [
        {
          "output_type": "execute_result",
          "data": {
            "text/plain": [
              "{'joao', 'junior', 'marcos', 'pedro'}"
            ]
          },
          "metadata": {
            "tags": []
          },
          "execution_count": 28
        }
      ]
    },
    {
      "cell_type": "code",
      "metadata": {
        "id": "m9MNnxfenH0_",
        "colab": {
          "base_uri": "https://localhost:8080/"
        },
        "outputId": "a7249c9f-be34-433d-ab5d-f3dee138fe0f"
      },
      "source": [
        "#Intercessão\n",
        "c1 = {1,2,3,4}\n",
        "c2 = {3,4,5}\n",
        "r = c1&c2\n",
        "r"
      ],
      "execution_count": null,
      "outputs": [
        {
          "output_type": "execute_result",
          "data": {
            "text/plain": [
              "{3, 4}"
            ]
          },
          "metadata": {
            "tags": []
          },
          "execution_count": 29
        }
      ]
    },
    {
      "cell_type": "code",
      "metadata": {
        "id": "ZGLK90sBnJjm",
        "colab": {
          "base_uri": "https://localhost:8080/"
        },
        "outputId": "75674c55-7f4c-4887-f4d2-611920031898"
      },
      "source": [
        "#União\n",
        "r = c1|c2\n",
        "r"
      ],
      "execution_count": null,
      "outputs": [
        {
          "output_type": "execute_result",
          "data": {
            "text/plain": [
              "{1, 2, 3, 4, 5}"
            ]
          },
          "metadata": {
            "tags": []
          },
          "execution_count": 30
        }
      ]
    },
    {
      "cell_type": "code",
      "metadata": {
        "id": "St6I0uKAnLG-",
        "colab": {
          "base_uri": "https://localhost:8080/"
        },
        "outputId": "064de8b5-ebc5-4f42-dc42-474350f23e51"
      },
      "source": [
        "#diferença\n",
        "r = c1-c2\n",
        "r"
      ],
      "execution_count": null,
      "outputs": [
        {
          "output_type": "execute_result",
          "data": {
            "text/plain": [
              "{1, 2}"
            ]
          },
          "metadata": {
            "tags": []
          },
          "execution_count": 31
        }
      ]
    },
    {
      "cell_type": "markdown",
      "metadata": {
        "id": "wHUntnL4KX2u"
      },
      "source": [
        "### Manipulação de arquivos"
      ]
    },
    {
      "cell_type": "code",
      "metadata": {
        "id": "4y88SX5KKZ33",
        "colab": {
          "base_uri": "https://localhost:8080/"
        },
        "outputId": "a8d3188c-ed43-4b0f-9559-2a2df2c7ec99"
      },
      "source": [
        "#Cria o arquivo\n",
        "arq = open('arquivo.txt', 'w')\n",
        "arq.write('Python é legal \\n')\n",
        "arq.write('Curso de bs4')\n",
        "arq.close()\n",
        "\n",
        "# Abre o arquivo\n",
        "arq= open('arquivo.txt', 'r')\n",
        "print(arq.read())\n",
        "arq.close()\n",
        "\n"
      ],
      "execution_count": null,
      "outputs": [
        {
          "output_type": "stream",
          "text": [
            "Python é legal \n",
            "Curso de bs4\n"
          ],
          "name": "stdout"
        }
      ]
    },
    {
      "cell_type": "markdown",
      "metadata": {
        "id": "HF6I3vicncpg"
      },
      "source": [
        "Usando o comando with e em seguida open, ao terminar todos os comandos que estão dentro desse bloco, automaticamente é chamado o close.\n",
        "Caso você não use o close como no exemplo acima, ou use o with, o arquivo ficará aberto consumindo memória."
      ]
    },
    {
      "cell_type": "code",
      "metadata": {
        "id": "Fs7socWMna7p",
        "colab": {
          "base_uri": "https://localhost:8080/"
        },
        "outputId": "21812ca1-22b3-43ed-f80b-9b1ff66c5e64"
      },
      "source": [
        "#Abre o arquivo de uma forma mais elegante. \n",
        "with open('arquivo.txt', 'r') as f:\n",
        "  print(f.read())"
      ],
      "execution_count": null,
      "outputs": [
        {
          "output_type": "stream",
          "text": [
            "Python é legal \n",
            "Curso de bs4\n"
          ],
          "name": "stdout"
        }
      ]
    },
    {
      "cell_type": "markdown",
      "metadata": {
        "id": "1Npr60cJMJUO"
      },
      "source": [
        "Loops e laços de repetição"
      ]
    },
    {
      "cell_type": "code",
      "metadata": {
        "colab": {
          "base_uri": "https://localhost:8080/"
        },
        "id": "0yxjfXz9ZwTX",
        "outputId": "30dbd294-1cf6-49ed-8037-3385001dec73"
      },
      "source": [
        "cont = 1\n",
        "while cont <=10:\n",
        "  cont = cont + 1\n",
        "  print('Não vou mais entrar no whatsapp')"
      ],
      "execution_count": null,
      "outputs": [
        {
          "output_type": "stream",
          "text": [
            "Não vou mais entrar no whatsapp\n",
            "Não vou mais entrar no whatsapp\n",
            "Não vou mais entrar no whatsapp\n",
            "Não vou mais entrar no whatsapp\n",
            "Não vou mais entrar no whatsapp\n",
            "Não vou mais entrar no whatsapp\n",
            "Não vou mais entrar no whatsapp\n",
            "Não vou mais entrar no whatsapp\n",
            "Não vou mais entrar no whatsapp\n",
            "Não vou mais entrar no whatsapp\n"
          ],
          "name": "stdout"
        }
      ]
    },
    {
      "cell_type": "code",
      "metadata": {
        "id": "EJRVStWKnw5Z",
        "colab": {
          "base_uri": "https://localhost:8080/"
        },
        "outputId": "545db729-7170-442e-891f-f74d94a339ea"
      },
      "source": [
        "'''\n",
        "Laço usando FOR pulando de 2 em 2 a partir do 1 até o 9.\n",
        "Adicionei a função enumerate pra saber em qual iteração está.\n",
        "'''\n",
        "\n",
        "for i, qualquernome in enumerate(range(1,10,2)):\n",
        "  print(f'É a {qualquernome}º vez que eu falo: ')\n",
        "  print('\"Não vou mais entrar no whatsapp\"\\n')\n",
        "print('Só sei contar usando números ímpares.')"
      ],
      "execution_count": null,
      "outputs": [
        {
          "output_type": "stream",
          "text": [
            "É a 1º vez que eu falo: \n",
            "\"Não vou mais entrar no whatsapp\"\n",
            "\n",
            "É a 3º vez que eu falo: \n",
            "\"Não vou mais entrar no whatsapp\"\n",
            "\n",
            "É a 5º vez que eu falo: \n",
            "\"Não vou mais entrar no whatsapp\"\n",
            "\n",
            "É a 7º vez que eu falo: \n",
            "\"Não vou mais entrar no whatsapp\"\n",
            "\n",
            "É a 9º vez que eu falo: \n",
            "\"Não vou mais entrar no whatsapp\"\n",
            "\n",
            "Só sei contar usando números ímpares.\n"
          ],
          "name": "stdout"
        }
      ]
    },
    {
      "cell_type": "markdown",
      "metadata": {
        "id": "8rTWs_4da3xC"
      },
      "source": [
        "### Criação de funções"
      ]
    },
    {
      "cell_type": "code",
      "metadata": {
        "colab": {
          "base_uri": "https://localhost:8080/"
        },
        "id": "wbm8ETDca7kX",
        "outputId": "fbe8e62c-4fa1-46c5-91f9-5cc03e29e757"
      },
      "source": [
        "def media(n1, n2):\n",
        "  result = (n1 + n2) / 2\n",
        "  return result\n",
        "\n",
        "r = media(10, 20)\n",
        "print(f'A média é {r:.10f}')\n",
        "print(f'Ou se preferir {r:.0f}')\n",
        "\n",
        "#float\n",
        "r = 1.59\n",
        "s = 1254.40\n",
        "t = 1259785.20\n",
        "print(f'R$ {r:010.2f}')\n",
        "print(f'R$ {s:010.2f}')\n",
        "print(f'R$ {t:10.2f}\\n')\n",
        "\n",
        "\n",
        "#inteiro\n",
        "print('data de aniversário: {:02d}/{:02d}/{:0d}'.format(9,1,2001))"
      ],
      "execution_count": null,
      "outputs": [
        {
          "output_type": "stream",
          "text": [
            "A média é 15.0000000000\n",
            "Ou se preferir 15\n",
            "R$ 0000001.59\n",
            "R$ 0001254.40\n",
            "R$ 1259785.20\n",
            "\n",
            "data de aniversário: 09/01/2001\n"
          ],
          "name": "stdout"
        }
      ]
    },
    {
      "cell_type": "code",
      "metadata": {
        "id": "6My8cE0BR9A6"
      },
      "source": [
        "import random\n",
        "print('*********************************')\n",
        "print('Bem vindo ao jogo de adivinhação!')\n",
        "print('*********************************')\n",
        "\n",
        "numerosecreto = round(random.randrange(1,101))\n",
        "\n",
        "\n",
        "\n",
        "print('Qual o nível de dificuldade? ', numerosecreto )\n",
        "print('(1) Fácil (2) Médio (3) Difícil')\n",
        "nivel = int(input('Defina o nível:'))\n",
        "\n",
        "if nivel == 1:\n",
        "  tdt = 20\n",
        "elif nivel == 2:\n",
        "  tdt = 10\n",
        "else:\n",
        "  tdt = 5\n",
        "\n",
        "\n",
        "for _ , rodada in enumerate(range(tdt)): \n",
        "  print(f'Tentativa {rodada+1} de {tdt}')\n",
        "  chute = int(input('Digite um número entre 1 e 100: '))\n",
        "  print('O seu número é: ', chute)\n",
        "\n",
        "  cont = 1\n",
        "  while chute < 1 or chute > 100:\n",
        "    print('Erro! Digite um número entre 1 e 100!')\n",
        "    chute = int(input('Digite um número entre 1 e 100: '))\n",
        "    cont += 1\n",
        "    if cont >= 3:\n",
        "      print('*** Você só pode estar de brincation with me! ***')\n",
        "    continue\n",
        "\n",
        "  acertou = chute == numerosecreto\n",
        "  maior = chute > numerosecreto  \n",
        "\n",
        "#quando usar o for sempre colocar o break para não gerar um loop\n",
        "  if acertou:\n",
        "    print(f'Parabéns, Você acertou e fez {pontos} pontos!!')\n",
        "    break\n",
        "  else:\n",
        "    if maior:\n",
        "      print('Você está perto, o seu chute foi maior que o número secreto.')\n",
        "    else:\n",
        "      print('Você está perto, o seu chute foi menor que o número secreto.')\n",
        "     \n",
        "\n",
        "  if chute == numerosecreto:\n",
        "      pontos = 100\n",
        "  else:\n",
        "     pontos = 0\n",
        "\n",
        "\n",
        "  \n",
        "if not acertou:\n",
        "  print('\\n\\t\\t    Game Over\\n \\t\\tInsira outra ficha\\n')\n",
        "  print(f'\\n\\t\\t O número era {numerosecreto}')\n",
        "  print(f'\\t\\t A sua pontuação foi {pontos}')"
      ],
      "execution_count": null,
      "outputs": []
    }
  ]
}