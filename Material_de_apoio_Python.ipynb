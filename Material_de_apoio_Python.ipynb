{
  "nbformat": 4,
  "nbformat_minor": 0,
  "metadata": {
    "colab": {
      "name": "Material de apoio - Python.ipynb",
      "provenance": [],
      "collapsed_sections": [],
      "include_colab_link": true
    },
    "kernelspec": {
      "name": "python3",
      "display_name": "Python 3"
    },
    "language_info": {
      "name": "python"
    }
  },
  "cells": [
    {
      "cell_type": "markdown",
      "metadata": {
        "id": "view-in-github",
        "colab_type": "text"
      },
      "source": [
        "<a href=\"https://colab.research.google.com/github/Junior-Mendes/WebScraping/blob/main/Material_de_apoio_Python.ipynb\" target=\"_parent\"><img src=\"https://colab.research.google.com/assets/colab-badge.svg\" alt=\"Open In Colab\"/></a>"
      ]
    },
    {
      "cell_type": "markdown",
      "metadata": {
        "id": "PAYOXmRDeelm"
      },
      "source": [
        "# Rascunhos em python\n",
        "---------------------"
      ]
    },
    {
      "cell_type": "markdown",
      "metadata": {
        "id": "1LNu4Ry2eqQt"
      },
      "source": [
        "### Operadores"
      ]
    },
    {
      "cell_type": "code",
      "metadata": {
        "id": "092dfFgcesSC"
      },
      "source": [
        "a = 4\n",
        "b = 5"
      ],
      "execution_count": 6,
      "outputs": []
    },
    {
      "cell_type": "code",
      "metadata": {
        "colab": {
          "base_uri": "https://localhost:8080/"
        },
        "id": "9jeieyWwexzL",
        "outputId": "5dcbd873-6f97-474d-bcbd-665a8cbe7a7e"
      },
      "source": [
        "a + b"
      ],
      "execution_count": 7,
      "outputs": [
        {
          "output_type": "execute_result",
          "data": {
            "text/plain": [
              "9"
            ]
          },
          "metadata": {
            "tags": []
          },
          "execution_count": 7
        }
      ]
    },
    {
      "cell_type": "code",
      "metadata": {
        "colab": {
          "base_uri": "https://localhost:8080/"
        },
        "id": "BO-wAsK0ezy7",
        "outputId": "ce6c6c43-31f3-49d3-b9e3-defbb77a93dc"
      },
      "source": [
        "a * b"
      ],
      "execution_count": 8,
      "outputs": [
        {
          "output_type": "execute_result",
          "data": {
            "text/plain": [
              "20"
            ]
          },
          "metadata": {
            "tags": []
          },
          "execution_count": 8
        }
      ]
    },
    {
      "cell_type": "markdown",
      "metadata": {
        "id": "HwyQMxr-pRKY"
      },
      "source": [
        "### Condições"
      ]
    },
    {
      "cell_type": "code",
      "metadata": {
        "id": "2lyYZD4sqsb0",
        "colab": {
          "base_uri": "https://localhost:8080/"
        },
        "outputId": "0f29bfb9-e199-4741-9755-1373be4a1a62"
      },
      "source": [
        "'''\n",
        "Várias opções de prints.\n",
        "Acho que o que mais usam é o segundo. -> print(f'Escreva o que quiser com {variável} entre chaves.')\n",
        "'''\n",
        "nome='junior'\n",
        "empresa = 'Deltta'\n",
        "idade = 25\n",
        "qtde_funcionarios=int(10)\n",
        "#print(nome,\"tem\",str(idade), \"anos\", \"e trabalha na empresa\", empresa, \"que tem\", qtde_funcionarios,\"funcionários\" )\n",
        "\n",
        "if idade >=18:\n",
        "  # print(nome,\"tem\",str(idade), \"anos\",'é maior de idade', \"e trabalha na empresa\", empresa, \"que tem\", qtde_funcionarios,\"funcionários\")\n",
        "  print(f'{nome} tem {idade} anos, é maior de idade e trabalha na empresa {empresa} que tem {qtde_funcionarios} funcionários')\n",
        "  # print(nome + ' tem ' + str(idade) + ' anos, é maior de idade e trabalha na empresa ' + empresa + ' que tem ' + str(qtde_funcionarios) + ' funcionários.')\n",
        "else:\n",
        "  print(nome,\"tem\",str(idade), \"anos\",'é menor de idade', \"e não trabalha.\")\n"
      ],
      "execution_count": 48,
      "outputs": [
        {
          "output_type": "stream",
          "text": [
            "junior tem 25 anos, é maior de idade e trabalha na empresa Deltta que tem 10 funcionários\n"
          ],
          "name": "stdout"
        }
      ]
    },
    {
      "cell_type": "markdown",
      "metadata": {
        "id": "gMN0ffLYKJrr"
      },
      "source": [
        "### Listas"
      ]
    },
    {
      "cell_type": "code",
      "metadata": {
        "id": "3jBkQXw8KMEA",
        "colab": {
          "base_uri": "https://localhost:8080/"
        },
        "outputId": "f36d3352-f08c-48d3-c7e9-47ba2df47d4d"
      },
      "source": [
        "#Na lista permite inserir, remover, editar os elementos.\n",
        "lista = [1,2,3,4,5,6] #define a lista\n",
        "len(lista) #informa o tamanho da lista\n"
      ],
      "execution_count": 49,
      "outputs": [
        {
          "output_type": "execute_result",
          "data": {
            "text/plain": [
              "6"
            ]
          },
          "metadata": {
            "tags": []
          },
          "execution_count": 49
        }
      ]
    },
    {
      "cell_type": "code",
      "metadata": {
        "colab": {
          "base_uri": "https://localhost:8080/"
        },
        "id": "SQny1_8vkhu6",
        "outputId": "22120de4-5de3-4c1b-b31c-f45bfc51afa6"
      },
      "source": [
        "lista #imprime a lisa na tela"
      ],
      "execution_count": 50,
      "outputs": [
        {
          "output_type": "execute_result",
          "data": {
            "text/plain": [
              "[1, 2, 3, 4, 5, 6]"
            ]
          },
          "metadata": {
            "tags": []
          },
          "execution_count": 50
        }
      ]
    },
    {
      "cell_type": "code",
      "metadata": {
        "colab": {
          "base_uri": "https://localhost:8080/"
        },
        "id": "IxgaVhtWkjmg",
        "outputId": "95808f6d-b12d-4cff-af75-bb568f066461"
      },
      "source": [
        "lista[2] #imprime a posição do objeto na lista"
      ],
      "execution_count": 51,
      "outputs": [
        {
          "output_type": "execute_result",
          "data": {
            "text/plain": [
              "3"
            ]
          },
          "metadata": {
            "tags": []
          },
          "execution_count": 51
        }
      ]
    },
    {
      "cell_type": "code",
      "metadata": {
        "colab": {
          "base_uri": "https://localhost:8080/"
        },
        "id": "d7tlSUlzklbQ",
        "outputId": "32104bc8-b33a-437f-8103-14cb4f9ac3f1"
      },
      "source": [
        "lista.append(7) #adiciona um item na lista\n",
        "lista"
      ],
      "execution_count": 52,
      "outputs": [
        {
          "output_type": "execute_result",
          "data": {
            "text/plain": [
              "[1, 2, 3, 4, 5, 6, 7]"
            ]
          },
          "metadata": {
            "tags": []
          },
          "execution_count": 52
        }
      ]
    },
    {
      "cell_type": "code",
      "metadata": {
        "colab": {
          "base_uri": "https://localhost:8080/"
        },
        "id": "9ymsTuKzkoUA",
        "outputId": "2baac9c8-f886-4e6e-8a93-5366147131aa"
      },
      "source": [
        "lista.remove(7) #remove um item da lista\n",
        "lista"
      ],
      "execution_count": 53,
      "outputs": [
        {
          "output_type": "execute_result",
          "data": {
            "text/plain": [
              "[1, 2, 3, 4, 5, 6]"
            ]
          },
          "metadata": {
            "tags": []
          },
          "execution_count": 53
        }
      ]
    },
    {
      "cell_type": "code",
      "metadata": {
        "colab": {
          "base_uri": "https://localhost:8080/"
        },
        "id": "LcB-vyXYkqFY",
        "outputId": "354433c0-53b4-4287-bfae-acc69ec1b582"
      },
      "source": [
        "lista.append(7)\n",
        "lista\n"
      ],
      "execution_count": 54,
      "outputs": [
        {
          "output_type": "execute_result",
          "data": {
            "text/plain": [
              "[1, 2, 3, 4, 5, 6, 7]"
            ]
          },
          "metadata": {
            "tags": []
          },
          "execution_count": 54
        }
      ]
    },
    {
      "cell_type": "code",
      "metadata": {
        "colab": {
          "base_uri": "https://localhost:8080/"
        },
        "id": "wGjHzY9DkssC",
        "outputId": "66b7f1ff-5133-4219-c91e-0613ecf4db17"
      },
      "source": [
        "lista.pop(6) #remove um item da lista pela posição\n",
        "lista"
      ],
      "execution_count": 55,
      "outputs": [
        {
          "output_type": "execute_result",
          "data": {
            "text/plain": [
              "[1, 2, 3, 4, 5, 6]"
            ]
          },
          "metadata": {
            "tags": []
          },
          "execution_count": 55
        }
      ]
    },
    {
      "cell_type": "code",
      "metadata": {
        "colab": {
          "base_uri": "https://localhost:8080/"
        },
        "id": "3r2di_FVku6g",
        "outputId": "e2b662f9-934c-49bc-a344-3d0f818190a3"
      },
      "source": [
        "lista[-1] # mostra o último item da lista"
      ],
      "execution_count": 56,
      "outputs": [
        {
          "output_type": "execute_result",
          "data": {
            "text/plain": [
              "6"
            ]
          },
          "metadata": {
            "tags": []
          },
          "execution_count": 56
        }
      ]
    },
    {
      "cell_type": "code",
      "metadata": {
        "colab": {
          "base_uri": "https://localhost:8080/"
        },
        "id": "THQ5si-EkxuQ",
        "outputId": "6df1a237-c6dd-4479-ded2-619504985022"
      },
      "source": [
        "lista[0:4] # Mostra os 4 primeiros elementos.. o segundo termo (4) é esclusivo"
      ],
      "execution_count": 57,
      "outputs": [
        {
          "output_type": "execute_result",
          "data": {
            "text/plain": [
              "[1, 2, 3, 4]"
            ]
          },
          "metadata": {
            "tags": []
          },
          "execution_count": 57
        }
      ]
    },
    {
      "cell_type": "code",
      "metadata": {
        "colab": {
          "base_uri": "https://localhost:8080/"
        },
        "id": "O3LbwNayk6yB",
        "outputId": "af7474b0-de97-45b8-9fe1-b5521bf2f304"
      },
      "source": [
        "lista[0:-3] # Mostra todos elementos com exceção dos 3 últimos"
      ],
      "execution_count": 58,
      "outputs": [
        {
          "output_type": "execute_result",
          "data": {
            "text/plain": [
              "[1, 2, 3]"
            ]
          },
          "metadata": {
            "tags": []
          },
          "execution_count": 58
        }
      ]
    },
    {
      "cell_type": "markdown",
      "metadata": {
        "id": "iR8C5ym-lHcy"
      },
      "source": [
        "### Tuplas\n",
        "Tuplas não são modificáveis (não é permitido inserção, remoção, etc)."
      ]
    },
    {
      "cell_type": "code",
      "metadata": {
        "colab": {
          "base_uri": "https://localhost:8080/"
        },
        "id": "_QE8FxcFkdLB",
        "outputId": "000a47d1-cff1-4f0e-989e-dac3d3867d9f"
      },
      "source": [
        "tupla = (20, 10, 30)\n",
        "tupla"
      ],
      "execution_count": 62,
      "outputs": [
        {
          "output_type": "execute_result",
          "data": {
            "text/plain": [
              "(20, 10, 30)"
            ]
          },
          "metadata": {
            "tags": []
          },
          "execution_count": 62
        }
      ]
    },
    {
      "cell_type": "code",
      "metadata": {
        "colab": {
          "base_uri": "https://localhost:8080/"
        },
        "id": "e35ioYS3lQxI",
        "outputId": "31b4e5de-670e-4b77-de89-bea4fd0b331d"
      },
      "source": [
        "len(tupla)"
      ],
      "execution_count": 63,
      "outputs": [
        {
          "output_type": "execute_result",
          "data": {
            "text/plain": [
              "3"
            ]
          },
          "metadata": {
            "tags": []
          },
          "execution_count": 63
        }
      ]
    },
    {
      "cell_type": "code",
      "metadata": {
        "colab": {
          "base_uri": "https://localhost:8080/"
        },
        "id": "d07ExJKRlUKL",
        "outputId": "068cf725-bccf-4087-80da-a4bf5358a96e"
      },
      "source": [
        "tupla[0]"
      ],
      "execution_count": 64,
      "outputs": [
        {
          "output_type": "execute_result",
          "data": {
            "text/plain": [
              "20"
            ]
          },
          "metadata": {
            "tags": []
          },
          "execution_count": 64
        }
      ]
    },
    {
      "cell_type": "markdown",
      "metadata": {
        "id": "fz-4PxbamaVu"
      },
      "source": [
        "É possível converter listas em tuplas e tuplas em listas"
      ]
    },
    {
      "cell_type": "code",
      "metadata": {
        "colab": {
          "base_uri": "https://localhost:8080/"
        },
        "id": "CfK8xzdAlPBo",
        "outputId": "8f672dce-8abb-45db-ff54-957257278c62"
      },
      "source": [
        "lista_da_tupla = list(tupla) # Converter variáveis em lista\n",
        "lista_da_tupla"
      ],
      "execution_count": 65,
      "outputs": [
        {
          "output_type": "execute_result",
          "data": {
            "text/plain": [
              "[20, 10, 30]"
            ]
          },
          "metadata": {
            "tags": []
          },
          "execution_count": 65
        }
      ]
    },
    {
      "cell_type": "code",
      "metadata": {
        "colab": {
          "base_uri": "https://localhost:8080/"
        },
        "id": "nYRNVE27lYrJ",
        "outputId": "2ad2648e-2fb1-4457-de44-3f902e758de3"
      },
      "source": [
        "type(lista_da_tupla)"
      ],
      "execution_count": 66,
      "outputs": [
        {
          "output_type": "execute_result",
          "data": {
            "text/plain": [
              "list"
            ]
          },
          "metadata": {
            "tags": []
          },
          "execution_count": 66
        }
      ]
    },
    {
      "cell_type": "code",
      "metadata": {
        "colab": {
          "base_uri": "https://localhost:8080/"
        },
        "id": "B3NUqU-Xlhtn",
        "outputId": "128ffc3c-7a92-40eb-9809-62e47b3629cb"
      },
      "source": [
        "tupla_da_lista = tuple(lista) # Converter lista em tupla\n",
        "tupla_da_lista"
      ],
      "execution_count": 67,
      "outputs": [
        {
          "output_type": "execute_result",
          "data": {
            "text/plain": [
              "(1, 2, 3, 4, 5, 6)"
            ]
          },
          "metadata": {
            "tags": []
          },
          "execution_count": 67
        }
      ]
    },
    {
      "cell_type": "code",
      "metadata": {
        "colab": {
          "base_uri": "https://localhost:8080/"
        },
        "id": "glshEMO6louD",
        "outputId": "cddb05b0-57d5-4562-d943-61c597ea9df0"
      },
      "source": [
        "type(tupla_da_lista)"
      ],
      "execution_count": 68,
      "outputs": [
        {
          "output_type": "execute_result",
          "data": {
            "text/plain": [
              "tuple"
            ]
          },
          "metadata": {
            "tags": []
          },
          "execution_count": 68
        }
      ]
    },
    {
      "cell_type": "markdown",
      "metadata": {
        "id": "E_ffQU-iKObf"
      },
      "source": [
        "### Dicionários\n",
        "\n",
        "Não consigo acessar por índices igual a lista (p.ex.: lista[2]). É preciso saber o nome da chave ou do valor para acessá-los."
      ]
    },
    {
      "cell_type": "code",
      "metadata": {
        "id": "IQhAvoxpKRJP",
        "colab": {
          "base_uri": "https://localhost:8080/"
        },
        "outputId": "29189d8b-38d7-40e4-bd3f-097e118d14d4"
      },
      "source": [
        "#DICIONÁRIOS SÃO FORMADOS POR CHAVE VALOR, COMO NO EXEMPLO A CHAVE 'MARCOS' ESTÁ ASSOCIADO AO VALOR 28\n",
        "d = {'Marcos':28, 'Joao':30, 'Maria':18}\n",
        "d"
      ],
      "execution_count": 70,
      "outputs": [
        {
          "output_type": "execute_result",
          "data": {
            "text/plain": [
              "{'Joao': 30, 'Marcos': 28, 'Maria': 18}"
            ]
          },
          "metadata": {
            "tags": []
          },
          "execution_count": 70
        }
      ]
    },
    {
      "cell_type": "code",
      "metadata": {
        "colab": {
          "base_uri": "https://localhost:8080/"
        },
        "id": "kIqPfP1Eml3X",
        "outputId": "25a87cb0-07f9-460f-fc62-923c92a5a2d0"
      },
      "source": [
        "type(d)"
      ],
      "execution_count": 71,
      "outputs": [
        {
          "output_type": "execute_result",
          "data": {
            "text/plain": [
              "dict"
            ]
          },
          "metadata": {
            "tags": []
          },
          "execution_count": 71
        }
      ]
    },
    {
      "cell_type": "code",
      "metadata": {
        "colab": {
          "base_uri": "https://localhost:8080/"
        },
        "id": "qMrKdXhXmoHo",
        "outputId": "f2fa7025-541e-4e94-b332-16e37693a514"
      },
      "source": [
        "d['Marcos']"
      ],
      "execution_count": 72,
      "outputs": [
        {
          "output_type": "execute_result",
          "data": {
            "text/plain": [
              "28"
            ]
          },
          "metadata": {
            "tags": []
          },
          "execution_count": 72
        }
      ]
    },
    {
      "cell_type": "markdown",
      "metadata": {
        "id": "JrtIPJjcKTLL"
      },
      "source": [
        "### Conjuntos"
      ]
    },
    {
      "cell_type": "code",
      "metadata": {
        "id": "os2CawKOKVbC",
        "colab": {
          "base_uri": "https://localhost:8080/"
        },
        "outputId": "6cc2ac3c-0093-4b41-9af5-46e57bb626f3"
      },
      "source": [
        "#Conjuntos é uma coleção não ordenada que não possui elementos duplicados, ele não garante a ordem.\n",
        "\n",
        "c = {'pedro', 'marcos','marcos', 'joao'}\n",
        "c"
      ],
      "execution_count": 73,
      "outputs": [
        {
          "output_type": "execute_result",
          "data": {
            "text/plain": [
              "{'joao', 'marcos', 'pedro'}"
            ]
          },
          "metadata": {
            "tags": []
          },
          "execution_count": 73
        }
      ]
    },
    {
      "cell_type": "code",
      "metadata": {
        "id": "dUtZ0LANnBbo",
        "outputId": "232c79a1-1dd0-49c4-98db-a1b5ee18d59f",
        "colab": {
          "base_uri": "https://localhost:8080/"
        }
      },
      "source": [
        "len(c)"
      ],
      "execution_count": 74,
      "outputs": [
        {
          "output_type": "execute_result",
          "data": {
            "text/plain": [
              "3"
            ]
          },
          "metadata": {
            "tags": []
          },
          "execution_count": 74
        }
      ]
    },
    {
      "cell_type": "code",
      "metadata": {
        "id": "qhJwT_SbnDev",
        "outputId": "e783ef4a-1190-40b2-fe8e-bf5cda514313",
        "colab": {
          "base_uri": "https://localhost:8080/"
        }
      },
      "source": [
        "'joao' in c"
      ],
      "execution_count": 75,
      "outputs": [
        {
          "output_type": "execute_result",
          "data": {
            "text/plain": [
              "True"
            ]
          },
          "metadata": {
            "tags": []
          },
          "execution_count": 75
        }
      ]
    },
    {
      "cell_type": "code",
      "metadata": {
        "id": "Xz6bVaS3nF1g",
        "outputId": "abd26209-a9ab-4f22-f7ce-cd0fc8c5e77c",
        "colab": {
          "base_uri": "https://localhost:8080/"
        }
      },
      "source": [
        "c.add('junior')\n",
        "c"
      ],
      "execution_count": 76,
      "outputs": [
        {
          "output_type": "execute_result",
          "data": {
            "text/plain": [
              "{'joao', 'junior', 'marcos', 'pedro'}"
            ]
          },
          "metadata": {
            "tags": []
          },
          "execution_count": 76
        }
      ]
    },
    {
      "cell_type": "code",
      "metadata": {
        "id": "m9MNnxfenH0_",
        "outputId": "522b1ff5-10c0-41a4-89f9-b5d4ed82c512",
        "colab": {
          "base_uri": "https://localhost:8080/"
        }
      },
      "source": [
        "#Intercessão\n",
        "c1 = {1,2,3,4}\n",
        "c2 = {3,4,5}\n",
        "r = c1&c2\n",
        "r"
      ],
      "execution_count": 77,
      "outputs": [
        {
          "output_type": "execute_result",
          "data": {
            "text/plain": [
              "{3, 4}"
            ]
          },
          "metadata": {
            "tags": []
          },
          "execution_count": 77
        }
      ]
    },
    {
      "cell_type": "code",
      "metadata": {
        "id": "ZGLK90sBnJjm",
        "outputId": "90b39482-be4d-448b-9f82-1eb5712e2cd1",
        "colab": {
          "base_uri": "https://localhost:8080/"
        }
      },
      "source": [
        "#União\n",
        "r = c1|c2\n",
        "r"
      ],
      "execution_count": 78,
      "outputs": [
        {
          "output_type": "execute_result",
          "data": {
            "text/plain": [
              "{1, 2, 3, 4, 5}"
            ]
          },
          "metadata": {
            "tags": []
          },
          "execution_count": 78
        }
      ]
    },
    {
      "cell_type": "code",
      "metadata": {
        "id": "St6I0uKAnLG-",
        "outputId": "f94a5379-4ded-4971-9603-ee0c2ab6c1fc",
        "colab": {
          "base_uri": "https://localhost:8080/"
        }
      },
      "source": [
        "#diferença\n",
        "r = c1-c2\n",
        "r"
      ],
      "execution_count": 79,
      "outputs": [
        {
          "output_type": "execute_result",
          "data": {
            "text/plain": [
              "{1, 2}"
            ]
          },
          "metadata": {
            "tags": []
          },
          "execution_count": 79
        }
      ]
    },
    {
      "cell_type": "markdown",
      "metadata": {
        "id": "wHUntnL4KX2u"
      },
      "source": [
        "### Manipulação de arquivos"
      ]
    },
    {
      "cell_type": "code",
      "metadata": {
        "id": "4y88SX5KKZ33",
        "colab": {
          "base_uri": "https://localhost:8080/"
        },
        "outputId": "5ecf2b2f-f306-4389-8cea-15d0cbe93b35"
      },
      "source": [
        "#Cria o arquivo\n",
        "arq = open('arquivo.txt', 'w')\n",
        "arq.write('Python é legal \\n')\n",
        "arq.write('Curso de bs4')\n",
        "arq.close()\n",
        "\n",
        "# Abre o arquivo\n",
        "arq= open('arquivo.txt', 'r')\n",
        "print(arq.read())\n",
        "arq.close()\n",
        "\n"
      ],
      "execution_count": 82,
      "outputs": [
        {
          "output_type": "stream",
          "text": [
            "Python é legal \n",
            "Curso de bs4\n"
          ],
          "name": "stdout"
        }
      ]
    },
    {
      "cell_type": "markdown",
      "metadata": {
        "id": "HF6I3vicncpg"
      },
      "source": [
        "Usando o comando with e em seguida open, ao terminar todos os comandos que estão dentro desse bloco, automaticamente é chamado o close.\n",
        "Caso você não use o close como no exemplo acima, ou use o with, o arquivo ficará aberto consumindo memória."
      ]
    },
    {
      "cell_type": "code",
      "metadata": {
        "id": "Fs7socWMna7p",
        "outputId": "abcee423-7550-4b0b-a094-8a0e690acde0",
        "colab": {
          "base_uri": "https://localhost:8080/"
        }
      },
      "source": [
        "#Abre o arquivo de uma forma mais elegante. \n",
        "with open('arquivo.txt', 'r') as f:\n",
        "  print(f.read())"
      ],
      "execution_count": 84,
      "outputs": [
        {
          "output_type": "stream",
          "text": [
            "Python é legal \n",
            "Curso de bs4\n"
          ],
          "name": "stdout"
        }
      ]
    },
    {
      "cell_type": "markdown",
      "metadata": {
        "id": "1Npr60cJMJUO"
      },
      "source": [
        "Loops e laços de repetição"
      ]
    },
    {
      "cell_type": "code",
      "metadata": {
        "colab": {
          "base_uri": "https://localhost:8080/"
        },
        "id": "0yxjfXz9ZwTX",
        "outputId": "3189fe24-3821-4f29-8c6b-e661ea6be3f2"
      },
      "source": [
        "cont = 1\n",
        "while cont <=10:\n",
        "  cont = cont + 1\n",
        "  print('Não vou mais entrar no whatsapp')"
      ],
      "execution_count": 85,
      "outputs": [
        {
          "output_type": "stream",
          "text": [
            "Não vou mais entrar no whatsapp\n",
            "Não vou mais entrar no whatsapp\n",
            "Não vou mais entrar no whatsapp\n",
            "Não vou mais entrar no whatsapp\n",
            "Não vou mais entrar no whatsapp\n",
            "Não vou mais entrar no whatsapp\n",
            "Não vou mais entrar no whatsapp\n",
            "Não vou mais entrar no whatsapp\n",
            "Não vou mais entrar no whatsapp\n",
            "Não vou mais entrar no whatsapp\n"
          ],
          "name": "stdout"
        }
      ]
    },
    {
      "cell_type": "code",
      "metadata": {
        "id": "EJRVStWKnw5Z",
        "outputId": "6708d13e-cd57-4a3d-d95a-f9d17f94e6e5",
        "colab": {
          "base_uri": "https://localhost:8080/"
        }
      },
      "source": [
        "#não consegui implementar.\n",
        "for i, count in enumerate(range(1,10,2)):\n",
        "  print(f'É a {count}º vez que eu falo: ')\n",
        "  print('\"Não vou mais entrar no whatsapp\"\\n')\n",
        "print('Só sei contar usando números ímpares.')"
      ],
      "execution_count": 96,
      "outputs": [
        {
          "output_type": "stream",
          "text": [
            "É a 1º vez que eu falo: \n",
            "\"Não vou mais entrar no whatsapp\"\n",
            "\n",
            "É a 3º vez que eu falo: \n",
            "\"Não vou mais entrar no whatsapp\"\n",
            "\n",
            "É a 5º vez que eu falo: \n",
            "\"Não vou mais entrar no whatsapp\"\n",
            "\n",
            "É a 7º vez que eu falo: \n",
            "\"Não vou mais entrar no whatsapp\"\n",
            "\n",
            "É a 9º vez que eu falo: \n",
            "\"Não vou mais entrar no whatsapp\"\n",
            "\n",
            "Só sei contar usando números ímpares.\n"
          ],
          "name": "stdout"
        }
      ]
    },
    {
      "cell_type": "markdown",
      "metadata": {
        "id": "8rTWs_4da3xC"
      },
      "source": [
        "### Criação de funções"
      ]
    },
    {
      "cell_type": "code",
      "metadata": {
        "colab": {
          "base_uri": "https://localhost:8080/"
        },
        "id": "wbm8ETDca7kX",
        "outputId": "edb79be6-ce8f-494d-d10e-a9da0afa2162"
      },
      "source": [
        "def media(n1, n2):\n",
        "  result = (n1 + n2) / 2\n",
        "  return result\n",
        "\n",
        "r = media(10, 20)\n",
        "print(f'A média é {r:.10f}')\n",
        "print(f'Ou se preferir {r:.0f}')"
      ],
      "execution_count": 103,
      "outputs": [
        {
          "output_type": "stream",
          "text": [
            "A média é 15.0000000000\n",
            "Ou se preferir 15\n"
          ],
          "name": "stdout"
        }
      ]
    }
  ]
}