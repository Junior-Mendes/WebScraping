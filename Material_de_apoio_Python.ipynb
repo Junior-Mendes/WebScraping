{
  "nbformat": 4,
  "nbformat_minor": 0,
  "metadata": {
    "colab": {
      "name": "Material de apoio - Python.ipynb",
      "provenance": [],
      "collapsed_sections": [],
      "include_colab_link": true
    },
    "kernelspec": {
      "name": "python3",
      "display_name": "Python 3"
    },
    "language_info": {
      "name": "python"
    }
  },
  "cells": [
    {
      "cell_type": "markdown",
      "metadata": {
        "id": "view-in-github",
        "colab_type": "text"
      },
      "source": [
        "<a href=\"https://colab.research.google.com/github/Junior-Mendes/WebScraping/blob/main/Material_de_apoio_Python.ipynb\" target=\"_parent\"><img src=\"https://colab.research.google.com/assets/colab-badge.svg\" alt=\"Open In Colab\"/></a>"
      ]
    },
    {
      "cell_type": "markdown",
      "metadata": {
        "id": "PAYOXmRDeelm"
      },
      "source": [
        "# Rascunhos em python\n",
        "---------------------"
      ]
    },
    {
      "cell_type": "markdown",
      "metadata": {
        "id": "1LNu4Ry2eqQt"
      },
      "source": [
        "### Operadores"
      ]
    },
    {
      "cell_type": "code",
      "metadata": {
        "colab": {
          "base_uri": "https://localhost:8080/"
        },
        "id": "Et0dium5sufe",
        "outputId": "971c4339-d76e-4bbe-cfef-a36575ef47e3"
      },
      "source": [
        "!pip install pandas"
      ],
      "execution_count": null,
      "outputs": [
        {
          "output_type": "stream",
          "text": [
            "Requirement already satisfied: pandas in /usr/local/lib/python3.7/dist-packages (1.1.5)\n",
            "Requirement already satisfied: pytz>=2017.2 in /usr/local/lib/python3.7/dist-packages (from pandas) (2018.9)\n",
            "Requirement already satisfied: numpy>=1.15.4 in /usr/local/lib/python3.7/dist-packages (from pandas) (1.19.5)\n",
            "Requirement already satisfied: python-dateutil>=2.7.3 in /usr/local/lib/python3.7/dist-packages (from pandas) (2.8.1)\n",
            "Requirement already satisfied: six>=1.5 in /usr/local/lib/python3.7/dist-packages (from python-dateutil>=2.7.3->pandas) (1.15.0)\n"
          ],
          "name": "stdout"
        }
      ]
    },
    {
      "cell_type": "code",
      "metadata": {
        "id": "qldNQfw4s8Le"
      },
      "source": [
        "import pandas as pd"
      ],
      "execution_count": null,
      "outputs": []
    },
    {
      "cell_type": "code",
      "metadata": {
        "colab": {
          "base_uri": "https://localhost:8080/"
        },
        "id": "uxpPYbjhrRzm",
        "outputId": "018d1072-e043-4b5a-f3fc-886d192aee3f"
      },
      "source": [
        "qualquercoisa = 'yuri kuivjogi fernades'\n",
        "qualquercoisa2 = 'yuri kuivjogi fernades2'\n",
        "if qualquercoisa == qualquercoisa2:\n",
        "  print('iguais')\n",
        "else:\n",
        "  print('diferentes')"
      ],
      "execution_count": null,
      "outputs": [
        {
          "output_type": "stream",
          "text": [
            "diferentes\n"
          ],
          "name": "stdout"
        }
      ]
    },
    {
      "cell_type": "code",
      "metadata": {
        "colab": {
          "base_uri": "https://localhost:8080/"
        },
        "id": "w-Ob2tMqsxhc",
        "outputId": "6ec11e66-289c-406e-e74d-5c41f4bb1716"
      },
      "source": [
        "lista = [1, 2, 3, 4, 2, 3, 4, 2, 3, 4, 2, 3, 4, 2, 3, 4, 2, 3, 4]\n",
        "type(lista)"
      ],
      "execution_count": null,
      "outputs": [
        {
          "output_type": "execute_result",
          "data": {
            "text/plain": [
              "list"
            ]
          },
          "metadata": {
            "tags": []
          },
          "execution_count": 32
        }
      ]
    },
    {
      "cell_type": "code",
      "metadata": {
        "colab": {
          "base_uri": "https://localhost:8080/"
        },
        "id": "CWdPv1YxtCxg",
        "outputId": "76330fea-dbd0-41b7-f178-0322849b9afd"
      },
      "source": [
        "import pandas as pd\n",
        "tabela = pd.DataFrame(lista)\n",
        "type(tabela)"
      ],
      "execution_count": null,
      "outputs": [
        {
          "output_type": "execute_result",
          "data": {
            "text/plain": [
              "pandas.core.frame.DataFrame"
            ]
          },
          "metadata": {
            "tags": []
          },
          "execution_count": 33
        }
      ]
    },
    {
      "cell_type": "code",
      "metadata": {
        "id": "092dfFgcesSC"
      },
      "source": [
        "a = 4\n",
        "b = 5"
      ],
      "execution_count": null,
      "outputs": []
    },
    {
      "cell_type": "code",
      "metadata": {
        "colab": {
          "base_uri": "https://localhost:8080/"
        },
        "id": "9jeieyWwexzL",
        "outputId": "0e44b985-356c-416a-f496-8c59d2bcc8e1"
      },
      "source": [
        "a + b"
      ],
      "execution_count": null,
      "outputs": [
        {
          "output_type": "execute_result",
          "data": {
            "text/plain": [
              "8"
            ]
          },
          "metadata": {
            "tags": []
          },
          "execution_count": 2
        }
      ]
    },
    {
      "cell_type": "code",
      "metadata": {
        "colab": {
          "base_uri": "https://localhost:8080/"
        },
        "id": "BO-wAsK0ezy7",
        "outputId": "e472e6f4-b018-4089-b1b8-f53390488cbf"
      },
      "source": [
        "a * b"
      ],
      "execution_count": null,
      "outputs": [
        {
          "output_type": "execute_result",
          "data": {
            "text/plain": [
              "20"
            ]
          },
          "metadata": {
            "tags": []
          },
          "execution_count": 6
        }
      ]
    },
    {
      "cell_type": "code",
      "metadata": {
        "colab": {
          "base_uri": "https://localhost:8080/"
        },
        "id": "yNK9-1EWrS9u",
        "outputId": "5ec10a3b-cab7-45a0-d05e-4e2df65de8b9"
      },
      "source": [
        "print('Teste')"
      ],
      "execution_count": null,
      "outputs": [
        {
          "output_type": "stream",
          "text": [
            "Teste\n"
          ],
          "name": "stdout"
        }
      ]
    },
    {
      "cell_type": "markdown",
      "metadata": {
        "id": "ePKQszlge14T"
      },
      "source": [
        "etc.."
      ]
    },
    {
      "cell_type": "code",
      "metadata": {
        "id": "2lyYZD4sqsb0",
        "colab": {
          "base_uri": "https://localhost:8080/"
        },
        "outputId": "b0fd6890-a5c8-4a88-bbc3-4bc78e27c04d"
      },
      "source": [
        "nome='junior'\n",
        "empresa = 'Deltta'\n",
        "idade = 25\n",
        "qtde_funcionarios=int(10)\n",
        "#print(nome,\"tem\",str(idade), \"anos\", \"e trabalha na empresa\", empresa, \"que tem\", qtde_funcionarios,\"funcionários\" )\n",
        "\n",
        "if idade >=18:\n",
        "  print(nome,\"tem\",str(idade), \"anos\",'é maior de idade', \"e trabalha na empresa\", empresa, \"que tem\", qtde_funcionarios,\"funcionários\")\n",
        "else:\n",
        "  print(nome,\"tem\",str(idade), \"anos\",'é menor de idade', \"e não trabalha.\")\n"
      ],
      "execution_count": 20,
      "outputs": [
        {
          "output_type": "stream",
          "text": [
            "junior tem 25 anos é maior de idade e trabalha na empresa Deltta que tem 10 funcionários\n"
          ],
          "name": "stdout"
        }
      ]
    },
    {
      "cell_type": "markdown",
      "metadata": {
        "id": "gMN0ffLYKJrr"
      },
      "source": [
        "LISTAS E TUPLAS"
      ]
    },
    {
      "cell_type": "code",
      "metadata": {
        "id": "3jBkQXw8KMEA",
        "colab": {
          "base_uri": "https://localhost:8080/"
        },
        "outputId": "1295e17b-0eff-4e74-ea8d-a7ea87e07d92"
      },
      "source": [
        "#Na lista permite inserir, remover, editar os elementos.\n",
        "lista = [1,2,3,4,5,6] #defne a lista\n",
        "len(lista) #informa o tamanho da lista\n",
        "lista #imprime a lisa na tela\n",
        "lista[2] #imprime a posição do objeto na lista\n",
        "\n",
        "lista.append(7) #adiciona um item na lista\n",
        "lista\n",
        "\n",
        "lista.remove(7) #remove um item da lista\n",
        "lista\n",
        "\n",
        "lista.append(7)\n",
        "lista\n",
        "\n",
        "lista.pop(6) #remove um item da lista pela posição\n",
        "lista\n",
        "\n",
        "#lista[-1]# mostra o último item da lista\n",
        "\n",
        "#Tupla não permite editar os elementos(modificar, inserir, remover)\n",
        "tupla = (20, 10, 30)\n",
        "tupla\n",
        "len(tupla)\n",
        "tupla[0]"
      ],
      "execution_count": 24,
      "outputs": [
        {
          "output_type": "execute_result",
          "data": {
            "text/plain": [
              "20"
            ]
          },
          "metadata": {
            "tags": []
          },
          "execution_count": 24
        }
      ]
    },
    {
      "cell_type": "markdown",
      "metadata": {
        "id": "E_ffQU-iKObf"
      },
      "source": [
        "DICIONÁRIOS\n"
      ]
    },
    {
      "cell_type": "code",
      "metadata": {
        "id": "IQhAvoxpKRJP",
        "colab": {
          "base_uri": "https://localhost:8080/"
        },
        "outputId": "6231b623-ec52-4da7-d4d6-a1146341ea22"
      },
      "source": [
        "#DICIONÁRIOS SÃO FORMADOS POR CHAVE VALOR, COMO NO EXEMPLO A CHAVE 'MARCOS' ESTÁ ASSOCIADO AO VALOR 28\n",
        "d = {'Marcos':28, 'Joao':30, 'Maria':18}\n",
        "d\n",
        "type(d)\n",
        "d['Marcos']\n"
      ],
      "execution_count": 29,
      "outputs": [
        {
          "output_type": "execute_result",
          "data": {
            "text/plain": [
              "28"
            ]
          },
          "metadata": {
            "tags": []
          },
          "execution_count": 29
        }
      ]
    },
    {
      "cell_type": "markdown",
      "metadata": {
        "id": "JrtIPJjcKTLL"
      },
      "source": [
        "CONJUNTOS"
      ]
    },
    {
      "cell_type": "code",
      "metadata": {
        "id": "os2CawKOKVbC"
      },
      "source": [
        "#Conjuntos é uma coleção não ordenada que não possui elementos duplicados, ele não garante a ordem.\n",
        "\n",
        "c = {'pedro', 'marcos','marcos', 'joao'}\n",
        "c\n",
        "len(c)\n",
        "'joao' in c\n",
        "'Joao' in c\n",
        "\n",
        "c.add('junior')\n",
        "c\n",
        "\n",
        "#Intercessão\n",
        "c1 = {1,2,3,4}\n",
        "c2 = {3,4,5}\n",
        "r = c1&c2\n",
        "r\n",
        "\n",
        "#União\n",
        "r = c1|c2\n",
        "r\n",
        "\n",
        "#diferença\n",
        "r = c1-c2\n",
        "r\n"
      ],
      "execution_count": null,
      "outputs": []
    },
    {
      "cell_type": "markdown",
      "metadata": {
        "id": "wHUntnL4KX2u"
      },
      "source": [
        "MANIPULAR ARQUIVOS"
      ]
    },
    {
      "cell_type": "code",
      "metadata": {
        "id": "4y88SX5KKZ33",
        "colab": {
          "base_uri": "https://localhost:8080/"
        },
        "outputId": "0e4b8f8b-0cb1-48ac-f342-ad6eeedeeced"
      },
      "source": [
        "#Cria o arquivo\n",
        "#arq = open('arquivo.txt', 'w')\n",
        "#arq.write('Python é legal \\n')\n",
        "#arq.write('Curso de bs4')\n",
        "#arq.close()\n",
        "\n",
        "#Abre o arquivo\n",
        "#arq= open('arquivo.txt', 'r')\n",
        "#print(arq.read())\n",
        "#arq.close()\n",
        "\n",
        "#Abre o arquivo de uma forma mais elegante\n",
        "with open('arquivo.txt', 'r') as f:\n",
        "  print(f.read())\n",
        "\n"
      ],
      "execution_count": 4,
      "outputs": [
        {
          "output_type": "stream",
          "text": [
            "Python é legal \n",
            "Curso de bs4\n"
          ],
          "name": "stdout"
        }
      ]
    },
    {
      "cell_type": "markdown",
      "metadata": {
        "id": "1Npr60cJMJUO"
      },
      "source": [
        "Loops e laços de repetição"
      ]
    },
    {
      "cell_type": "code",
      "metadata": {
        "colab": {
          "base_uri": "https://localhost:8080/"
        },
        "id": "0yxjfXz9ZwTX",
        "outputId": "fcc30cd0-8f2e-4e7a-bcd8-e56552a5d6f9"
      },
      "source": [
        "cont = 1\n",
        "while cont <=10:\n",
        "  cont = cont + 1\n",
        "  print('Não vou mais entrar no whatsapp')\n",
        "\n",
        "#não consegui implementar.\n",
        "  #for _ in range(1,10,2):\n",
        "   # print('Não vou mais entrar no whatsapp')\n",
        "    \n",
        " "
      ],
      "execution_count": 8,
      "outputs": [
        {
          "output_type": "stream",
          "text": [
            "Não vou mais entrar no whatsapp\n",
            "Não vou mais entrar no whatsapp\n",
            "Não vou mais entrar no whatsapp\n",
            "Não vou mais entrar no whatsapp\n",
            "Não vou mais entrar no whatsapp\n",
            "Não vou mais entrar no whatsapp\n",
            "Não vou mais entrar no whatsapp\n",
            "Não vou mais entrar no whatsapp\n",
            "Não vou mais entrar no whatsapp\n",
            "Não vou mais entrar no whatsapp\n"
          ],
          "name": "stdout"
        }
      ]
    },
    {
      "cell_type": "markdown",
      "metadata": {
        "id": "8rTWs_4da3xC"
      },
      "source": [
        "CRIAR PROPRIAS FUNÇÕES"
      ]
    },
    {
      "cell_type": "code",
      "metadata": {
        "colab": {
          "base_uri": "https://localhost:8080/"
        },
        "id": "wbm8ETDca7kX",
        "outputId": "dec7f2b8-4f61-45fd-bd25-2ab823839aca"
      },
      "source": [
        "def media(n1, n2):\n",
        "\n",
        "  result = (n1 + n2) / 2\n",
        "  return result\n",
        "\n",
        "r = media(10, 20)\n",
        "print(r)\n"
      ],
      "execution_count": 18,
      "outputs": [
        {
          "output_type": "stream",
          "text": [
            "15.0\n"
          ],
          "name": "stdout"
        }
      ]
    }
  ]
}