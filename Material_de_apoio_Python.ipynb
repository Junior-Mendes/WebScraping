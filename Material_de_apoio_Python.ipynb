{
  "nbformat": 4,
  "nbformat_minor": 0,
  "metadata": {
    "colab": {
      "name": "Material de apoio - Python.ipynb",
      "provenance": [],
      "authorship_tag": "ABX9TyN81rRYlaXCh9eem6tTGmXp",
      "include_colab_link": true
    },
    "kernelspec": {
      "name": "python3",
      "display_name": "Python 3"
    },
    "language_info": {
      "name": "python"
    }
  },
  "cells": [
    {
      "cell_type": "markdown",
      "metadata": {
        "id": "view-in-github",
        "colab_type": "text"
      },
      "source": [
        "<a href=\"https://colab.research.google.com/github/Junior-Mendes/WebScraping/blob/main/Material_de_apoio_Python.ipynb\" target=\"_parent\"><img src=\"https://colab.research.google.com/assets/colab-badge.svg\" alt=\"Open In Colab\"/></a>"
      ]
    },
    {
      "cell_type": "markdown",
      "metadata": {
        "id": "PAYOXmRDeelm"
      },
      "source": [
        "# Rascunhos em python\n",
        "---------------------"
      ]
    },
    {
      "cell_type": "code",
      "metadata": {
        "id": "uxpPYbjhrRzm"
      },
      "source": [
        ""
      ],
      "execution_count": null,
      "outputs": []
    },
    {
      "cell_type": "markdown",
      "metadata": {
        "id": "1LNu4Ry2eqQt"
      },
      "source": [
        "### Operadores"
      ]
    },
    {
      "cell_type": "code",
      "metadata": {
        "id": "092dfFgcesSC"
      },
      "source": [
        "a = 4\n",
        "b = 5"
      ],
      "execution_count": 5,
      "outputs": []
    },
    {
      "cell_type": "code",
      "metadata": {
        "colab": {
          "base_uri": "https://localhost:8080/"
        },
        "id": "9jeieyWwexzL",
        "outputId": "0e44b985-356c-416a-f496-8c59d2bcc8e1"
      },
      "source": [
        "a + b"
      ],
      "execution_count": null,
      "outputs": [
        {
          "output_type": "execute_result",
          "data": {
            "text/plain": [
              "8"
            ]
          },
          "metadata": {
            "tags": []
          },
          "execution_count": 2
        }
      ]
    },
    {
      "cell_type": "code",
      "metadata": {
        "colab": {
          "base_uri": "https://localhost:8080/"
        },
        "id": "BO-wAsK0ezy7",
        "outputId": "e472e6f4-b018-4089-b1b8-f53390488cbf"
      },
      "source": [
        "a * b"
      ],
      "execution_count": 6,
      "outputs": [
        {
          "output_type": "execute_result",
          "data": {
            "text/plain": [
              "20"
            ]
          },
          "metadata": {
            "tags": []
          },
          "execution_count": 6
        }
      ]
    },
    {
      "cell_type": "code",
      "metadata": {
        "id": "yNK9-1EWrS9u",
        "outputId": "5ec10a3b-cab7-45a0-d05e-4e2df65de8b9",
        "colab": {
          "base_uri": "https://localhost:8080/"
        }
      },
      "source": [
        "print('Teste')"
      ],
      "execution_count": 7,
      "outputs": [
        {
          "output_type": "stream",
          "text": [
            "Teste\n"
          ],
          "name": "stdout"
        }
      ]
    },
    {
      "cell_type": "markdown",
      "metadata": {
        "id": "ePKQszlge14T"
      },
      "source": [
        "etc.."
      ]
    },
    {
      "cell_type": "code",
      "metadata": {
        "id": "2lyYZD4sqsb0"
      },
      "source": [
        ""
      ],
      "execution_count": null,
      "outputs": []
    }
  ]
}