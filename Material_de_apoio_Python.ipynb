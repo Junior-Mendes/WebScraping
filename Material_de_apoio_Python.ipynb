{
  "nbformat": 4,
  "nbformat_minor": 0,
  "metadata": {
    "colab": {
      "name": " Material de apoio - Python.ipynb",
      "provenance": [],
      "collapsed_sections": [],
      "include_colab_link": true
    },
    "kernelspec": {
      "name": "python3",
      "display_name": "Python 3"
    },
    "language_info": {
      "name": "python"
    }
  },
  "cells": [
    {
      "cell_type": "markdown",
      "metadata": {
        "id": "view-in-github",
        "colab_type": "text"
      },
      "source": [
        "<a href=\"https://colab.research.google.com/github/Junior-Mendes/WebScraping/blob/main/Material_de_apoio_Python.ipynb\" target=\"_parent\"><img src=\"https://colab.research.google.com/assets/colab-badge.svg\" alt=\"Open In Colab\"/></a>"
      ]
    },
    {
      "cell_type": "markdown",
      "metadata": {
        "id": "PAYOXmRDeelm"
      },
      "source": [
        "# Rascunhos em python\n",
        "---------------------"
      ]
    },
    {
      "cell_type": "markdown",
      "metadata": {
        "id": "1LNu4Ry2eqQt"
      },
      "source": [
        "### Operadores"
      ]
    },
    {
      "cell_type": "code",
      "metadata": {
        "id": "092dfFgcesSC"
      },
      "source": [
        "a = 4\n",
        "b = 5"
      ],
      "execution_count": null,
      "outputs": []
    },
    {
      "cell_type": "code",
      "metadata": {
        "colab": {
          "base_uri": "https://localhost:8080/"
        },
        "id": "9jeieyWwexzL",
        "outputId": "ae781589-ddb6-458a-a65b-bffcd3206821"
      },
      "source": [
        "a + b"
      ],
      "execution_count": null,
      "outputs": [
        {
          "output_type": "execute_result",
          "data": {
            "text/plain": [
              "9"
            ]
          },
          "metadata": {
            "tags": []
          },
          "execution_count": 2
        }
      ]
    },
    {
      "cell_type": "code",
      "metadata": {
        "colab": {
          "base_uri": "https://localhost:8080/"
        },
        "id": "BO-wAsK0ezy7",
        "outputId": "3162292c-9db0-4ea2-d27f-40a0a7a69e74"
      },
      "source": [
        "a * b"
      ],
      "execution_count": null,
      "outputs": [
        {
          "output_type": "execute_result",
          "data": {
            "text/plain": [
              "20"
            ]
          },
          "metadata": {
            "tags": []
          },
          "execution_count": 3
        }
      ]
    },
    {
      "cell_type": "markdown",
      "metadata": {
        "id": "HwyQMxr-pRKY"
      },
      "source": [
        "### Condições"
      ]
    },
    {
      "cell_type": "code",
      "metadata": {
        "id": "2lyYZD4sqsb0",
        "colab": {
          "base_uri": "https://localhost:8080/"
        },
        "outputId": "39c7044a-863b-4407-8099-ff1baeab5bd2"
      },
      "source": [
        "'''\n",
        "Várias opções de prints.\n",
        "Acho que o que mais usam é o segundo. -> print(f'Escreva o que quiser com {variável} entre chaves.')\n",
        "'''\n",
        "nome='junior'\n",
        "empresa = 'Deltta'\n",
        "idade = int(input('Digite a sua idade Júnior: '))\n",
        "qtde_funcionarios=int(10)\n",
        "#print(nome,\"tem\",str(idade), \"anos\", \"e trabalha na empresa\", empresa, \"que tem\", qtde_funcionarios,\"funcionários\" )\n",
        "\n",
        "if idade >=18:\n",
        "  # print(nome,\"tem\",str(idade), \"anos\",'é maior de idade', \"e trabalha na empresa\", empresa, \"que tem\", qtde_funcionarios,\"funcionários\")\n",
        "  print(f'{nome} tem {idade} anos, é maior de idade e trabalha na empresa {empresa} que tem {qtde_funcionarios} funcionários')\n",
        "  \n",
        "else:\n",
        "  print(nome + ' tem ' + str(idade) + ' anos, é menor de idade e não trabalha.')\n",
        "  # print(nome,\"tem\",str(idade), \"anos\",'é menor de idade', \"e não trabalha.\")\n"
      ],
      "execution_count": null,
      "outputs": [
        {
          "output_type": "stream",
          "text": [
            "Digite a sua idade Júnior: 25\n",
            "junior tem 25 anos, é maior de idade e trabalha na empresa Deltta que tem 10 funcionários\n"
          ],
          "name": "stdout"
        }
      ]
    },
    {
      "cell_type": "markdown",
      "metadata": {
        "id": "gMN0ffLYKJrr"
      },
      "source": [
        "### Listas"
      ]
    },
    {
      "cell_type": "code",
      "metadata": {
        "id": "3jBkQXw8KMEA",
        "colab": {
          "base_uri": "https://localhost:8080/"
        },
        "outputId": "ecd875bb-c7de-4599-8cdc-96294c96c5c1"
      },
      "source": [
        "#Na lista permite inserir, remover, editar os elementos.\n",
        "lista = [1,2,3,4,5,6] #define a lista\n",
        "len(lista) #informa o tamanho da lista\n"
      ],
      "execution_count": null,
      "outputs": [
        {
          "output_type": "execute_result",
          "data": {
            "text/plain": [
              "6"
            ]
          },
          "metadata": {
            "tags": []
          },
          "execution_count": 5
        }
      ]
    },
    {
      "cell_type": "code",
      "metadata": {
        "colab": {
          "base_uri": "https://localhost:8080/"
        },
        "id": "SQny1_8vkhu6",
        "outputId": "8b234553-4928-45bc-bd72-f43d3c389d65"
      },
      "source": [
        "lista #imprime a lisa na tela"
      ],
      "execution_count": null,
      "outputs": [
        {
          "output_type": "execute_result",
          "data": {
            "text/plain": [
              "[1, 2, 3, 4, 5, 6]"
            ]
          },
          "metadata": {
            "tags": []
          },
          "execution_count": 6
        }
      ]
    },
    {
      "cell_type": "code",
      "metadata": {
        "colab": {
          "base_uri": "https://localhost:8080/"
        },
        "id": "IxgaVhtWkjmg",
        "outputId": "55f64dc4-3d28-4b7f-c6ef-b3a5773e4e25"
      },
      "source": [
        "lista[2] #imprime a posição do objeto na lista"
      ],
      "execution_count": null,
      "outputs": [
        {
          "output_type": "execute_result",
          "data": {
            "text/plain": [
              "3"
            ]
          },
          "metadata": {
            "tags": []
          },
          "execution_count": 7
        }
      ]
    },
    {
      "cell_type": "code",
      "metadata": {
        "colab": {
          "base_uri": "https://localhost:8080/"
        },
        "id": "d7tlSUlzklbQ",
        "outputId": "a8135df8-6ada-43f8-841c-6b75d060341e"
      },
      "source": [
        "lista.append(7) #adiciona um item na lista\n",
        "lista"
      ],
      "execution_count": null,
      "outputs": [
        {
          "output_type": "execute_result",
          "data": {
            "text/plain": [
              "[1, 2, 3, 4, 5, 6, 7]"
            ]
          },
          "metadata": {
            "tags": []
          },
          "execution_count": 8
        }
      ]
    },
    {
      "cell_type": "code",
      "metadata": {
        "colab": {
          "base_uri": "https://localhost:8080/"
        },
        "id": "9ymsTuKzkoUA",
        "outputId": "c6c523f0-6ab4-42e4-ae0a-8ef1e4d8d5ac"
      },
      "source": [
        "lista.remove(7) #remove um item da lista\n",
        "lista"
      ],
      "execution_count": null,
      "outputs": [
        {
          "output_type": "execute_result",
          "data": {
            "text/plain": [
              "[1, 2, 3, 4, 5, 6]"
            ]
          },
          "metadata": {
            "tags": []
          },
          "execution_count": 9
        }
      ]
    },
    {
      "cell_type": "code",
      "metadata": {
        "colab": {
          "base_uri": "https://localhost:8080/"
        },
        "id": "LcB-vyXYkqFY",
        "outputId": "47bd4a86-1009-41f3-e9bb-88205cb84e74"
      },
      "source": [
        "lista.append(7)\n",
        "lista\n"
      ],
      "execution_count": null,
      "outputs": [
        {
          "output_type": "execute_result",
          "data": {
            "text/plain": [
              "[1, 2, 3, 4, 5, 6, 7]"
            ]
          },
          "metadata": {
            "tags": []
          },
          "execution_count": 10
        }
      ]
    },
    {
      "cell_type": "code",
      "metadata": {
        "colab": {
          "base_uri": "https://localhost:8080/"
        },
        "id": "wGjHzY9DkssC",
        "outputId": "4774a015-7499-4595-d839-f0d07958cff3"
      },
      "source": [
        "lista.pop(6) #remove um item da lista pela posição\n",
        "lista"
      ],
      "execution_count": null,
      "outputs": [
        {
          "output_type": "execute_result",
          "data": {
            "text/plain": [
              "[1, 2, 3, 4, 5, 6]"
            ]
          },
          "metadata": {
            "tags": []
          },
          "execution_count": 11
        }
      ]
    },
    {
      "cell_type": "code",
      "metadata": {
        "colab": {
          "base_uri": "https://localhost:8080/"
        },
        "id": "3r2di_FVku6g",
        "outputId": "1f49a8cf-2b22-4302-cd3c-993c01341d9d"
      },
      "source": [
        "lista[-1] # mostra o último item da lista"
      ],
      "execution_count": null,
      "outputs": [
        {
          "output_type": "execute_result",
          "data": {
            "text/plain": [
              "6"
            ]
          },
          "metadata": {
            "tags": []
          },
          "execution_count": 12
        }
      ]
    },
    {
      "cell_type": "code",
      "metadata": {
        "colab": {
          "base_uri": "https://localhost:8080/"
        },
        "id": "THQ5si-EkxuQ",
        "outputId": "a54b65ab-cbf0-4dbc-cd1c-5a5a3fda084b"
      },
      "source": [
        "lista[0:4] # Mostra os 4 primeiros elementos.. o segundo termo (4) é esclusivo"
      ],
      "execution_count": null,
      "outputs": [
        {
          "output_type": "execute_result",
          "data": {
            "text/plain": [
              "[1, 2, 3, 4]"
            ]
          },
          "metadata": {
            "tags": []
          },
          "execution_count": 13
        }
      ]
    },
    {
      "cell_type": "code",
      "metadata": {
        "colab": {
          "base_uri": "https://localhost:8080/"
        },
        "id": "O3LbwNayk6yB",
        "outputId": "d2eab4a6-2666-4b17-975d-d7f8b9e18014"
      },
      "source": [
        "lista[0:-3] # Mostra todos elementos com exceção dos 3 últimos"
      ],
      "execution_count": null,
      "outputs": [
        {
          "output_type": "execute_result",
          "data": {
            "text/plain": [
              "[1, 2, 3]"
            ]
          },
          "metadata": {
            "tags": []
          },
          "execution_count": 14
        }
      ]
    },
    {
      "cell_type": "markdown",
      "metadata": {
        "id": "iR8C5ym-lHcy"
      },
      "source": [
        "### Tuplas\n",
        "Tuplas não são modificáveis (não é permitido inserção, remoção, etc)."
      ]
    },
    {
      "cell_type": "code",
      "metadata": {
        "colab": {
          "base_uri": "https://localhost:8080/"
        },
        "id": "_QE8FxcFkdLB",
        "outputId": "c6bc5812-435f-4dec-8fb3-7399012c19fb"
      },
      "source": [
        "tupla = (20, 10, 30)\n",
        "tupla"
      ],
      "execution_count": null,
      "outputs": [
        {
          "output_type": "execute_result",
          "data": {
            "text/plain": [
              "(20, 10, 30)"
            ]
          },
          "metadata": {
            "tags": []
          },
          "execution_count": 15
        }
      ]
    },
    {
      "cell_type": "code",
      "metadata": {
        "colab": {
          "base_uri": "https://localhost:8080/"
        },
        "id": "e35ioYS3lQxI",
        "outputId": "197a7ee0-cb3b-4a55-d523-9c9a8e349be5"
      },
      "source": [
        "len(tupla)"
      ],
      "execution_count": null,
      "outputs": [
        {
          "output_type": "execute_result",
          "data": {
            "text/plain": [
              "3"
            ]
          },
          "metadata": {
            "tags": []
          },
          "execution_count": 16
        }
      ]
    },
    {
      "cell_type": "code",
      "metadata": {
        "colab": {
          "base_uri": "https://localhost:8080/"
        },
        "id": "d07ExJKRlUKL",
        "outputId": "15d2fcc7-a9d4-4112-da51-120acb4f49d5"
      },
      "source": [
        "tupla[0]"
      ],
      "execution_count": null,
      "outputs": [
        {
          "output_type": "execute_result",
          "data": {
            "text/plain": [
              "20"
            ]
          },
          "metadata": {
            "tags": []
          },
          "execution_count": 17
        }
      ]
    },
    {
      "cell_type": "markdown",
      "metadata": {
        "id": "fz-4PxbamaVu"
      },
      "source": [
        "É possível converter listas em tuplas e tuplas em listas"
      ]
    },
    {
      "cell_type": "code",
      "metadata": {
        "colab": {
          "base_uri": "https://localhost:8080/"
        },
        "id": "CfK8xzdAlPBo",
        "outputId": "d517992f-cbdc-4e25-df1b-b0fceee7b300"
      },
      "source": [
        "lista_da_tupla = list(tupla) # Converter variáveis em lista\n",
        "lista_da_tupla"
      ],
      "execution_count": null,
      "outputs": [
        {
          "output_type": "execute_result",
          "data": {
            "text/plain": [
              "[20, 10, 30]"
            ]
          },
          "metadata": {
            "tags": []
          },
          "execution_count": 18
        }
      ]
    },
    {
      "cell_type": "code",
      "metadata": {
        "colab": {
          "base_uri": "https://localhost:8080/"
        },
        "id": "nYRNVE27lYrJ",
        "outputId": "7efd7f71-b36f-4ded-ba40-dfb357698bb3"
      },
      "source": [
        "type(lista_da_tupla)"
      ],
      "execution_count": null,
      "outputs": [
        {
          "output_type": "execute_result",
          "data": {
            "text/plain": [
              "list"
            ]
          },
          "metadata": {
            "tags": []
          },
          "execution_count": 19
        }
      ]
    },
    {
      "cell_type": "code",
      "metadata": {
        "colab": {
          "base_uri": "https://localhost:8080/"
        },
        "id": "B3NUqU-Xlhtn",
        "outputId": "be954821-2e6f-4f4d-f6a6-4bc85e56b36a"
      },
      "source": [
        "tupla_da_lista = tuple(lista) # Converter lista em tupla\n",
        "tupla_da_lista"
      ],
      "execution_count": null,
      "outputs": [
        {
          "output_type": "execute_result",
          "data": {
            "text/plain": [
              "(1, 2, 3, 4, 5, 6)"
            ]
          },
          "metadata": {
            "tags": []
          },
          "execution_count": 20
        }
      ]
    },
    {
      "cell_type": "code",
      "metadata": {
        "colab": {
          "base_uri": "https://localhost:8080/"
        },
        "id": "glshEMO6louD",
        "outputId": "016312b9-372c-4575-8a51-6642556d0580"
      },
      "source": [
        "type(tupla_da_lista)"
      ],
      "execution_count": null,
      "outputs": [
        {
          "output_type": "execute_result",
          "data": {
            "text/plain": [
              "tuple"
            ]
          },
          "metadata": {
            "tags": []
          },
          "execution_count": 21
        }
      ]
    },
    {
      "cell_type": "markdown",
      "metadata": {
        "id": "E_ffQU-iKObf"
      },
      "source": [
        "### Dicionários\n",
        "\n",
        "Não consigo acessar por índices igual a lista (p.ex.: lista[2]). É preciso saber o nome da chave ou do valor para acessá-los."
      ]
    },
    {
      "cell_type": "code",
      "metadata": {
        "id": "IQhAvoxpKRJP",
        "colab": {
          "base_uri": "https://localhost:8080/"
        },
        "outputId": "a9dc5678-2923-4f73-d321-49a28cf4a5d9"
      },
      "source": [
        "#DICIONÁRIOS SÃO FORMADOS POR CHAVE VALOR, COMO NO EXEMPLO A CHAVE 'MARCOS' ESTÁ ASSOCIADO AO VALOR 28\n",
        "d = {'Marcos':28, 'Joao':30, 'Maria':18}\n",
        "d"
      ],
      "execution_count": null,
      "outputs": [
        {
          "output_type": "execute_result",
          "data": {
            "text/plain": [
              "{'Joao': 30, 'Marcos': 28, 'Maria': 18}"
            ]
          },
          "metadata": {
            "tags": []
          },
          "execution_count": 22
        }
      ]
    },
    {
      "cell_type": "code",
      "metadata": {
        "colab": {
          "base_uri": "https://localhost:8080/"
        },
        "id": "kIqPfP1Eml3X",
        "outputId": "cc347fa4-93c2-44f7-d97d-b89344b20ca5"
      },
      "source": [
        "type(d)"
      ],
      "execution_count": null,
      "outputs": [
        {
          "output_type": "execute_result",
          "data": {
            "text/plain": [
              "dict"
            ]
          },
          "metadata": {
            "tags": []
          },
          "execution_count": 23
        }
      ]
    },
    {
      "cell_type": "code",
      "metadata": {
        "colab": {
          "base_uri": "https://localhost:8080/"
        },
        "id": "qMrKdXhXmoHo",
        "outputId": "b2275c41-9f68-454f-b237-ff3f747cfe4a"
      },
      "source": [
        "d['Marcos']"
      ],
      "execution_count": null,
      "outputs": [
        {
          "output_type": "execute_result",
          "data": {
            "text/plain": [
              "28"
            ]
          },
          "metadata": {
            "tags": []
          },
          "execution_count": 24
        }
      ]
    },
    {
      "cell_type": "markdown",
      "metadata": {
        "id": "JrtIPJjcKTLL"
      },
      "source": [
        "### Conjuntos"
      ]
    },
    {
      "cell_type": "code",
      "metadata": {
        "id": "os2CawKOKVbC",
        "colab": {
          "base_uri": "https://localhost:8080/"
        },
        "outputId": "4259616b-1e86-4c79-8306-6c45a7c4bc68"
      },
      "source": [
        "#Conjuntos é uma coleção não ordenada que não possui elementos duplicados, ele não garante a ordem.\n",
        "\n",
        "c = {'pedro', 'marcos','marcos', 'joao'}\n",
        "c"
      ],
      "execution_count": null,
      "outputs": [
        {
          "output_type": "execute_result",
          "data": {
            "text/plain": [
              "{'joao', 'marcos', 'pedro'}"
            ]
          },
          "metadata": {
            "tags": []
          },
          "execution_count": 25
        }
      ]
    },
    {
      "cell_type": "code",
      "metadata": {
        "id": "dUtZ0LANnBbo",
        "colab": {
          "base_uri": "https://localhost:8080/"
        },
        "outputId": "63cb1549-d4a0-40db-93d6-00091199d7c0"
      },
      "source": [
        "len(c)"
      ],
      "execution_count": null,
      "outputs": [
        {
          "output_type": "execute_result",
          "data": {
            "text/plain": [
              "3"
            ]
          },
          "metadata": {
            "tags": []
          },
          "execution_count": 26
        }
      ]
    },
    {
      "cell_type": "code",
      "metadata": {
        "id": "qhJwT_SbnDev",
        "colab": {
          "base_uri": "https://localhost:8080/"
        },
        "outputId": "326d2f51-d255-4f9e-b5e9-a552d8abf3c6"
      },
      "source": [
        "'joao' in c"
      ],
      "execution_count": null,
      "outputs": [
        {
          "output_type": "execute_result",
          "data": {
            "text/plain": [
              "True"
            ]
          },
          "metadata": {
            "tags": []
          },
          "execution_count": 27
        }
      ]
    },
    {
      "cell_type": "code",
      "metadata": {
        "id": "Xz6bVaS3nF1g",
        "colab": {
          "base_uri": "https://localhost:8080/"
        },
        "outputId": "b65074eb-6c39-4dcf-cb84-fdf9290b2545"
      },
      "source": [
        "c.add('junior')\n",
        "c"
      ],
      "execution_count": null,
      "outputs": [
        {
          "output_type": "execute_result",
          "data": {
            "text/plain": [
              "{'joao', 'junior', 'marcos', 'pedro'}"
            ]
          },
          "metadata": {
            "tags": []
          },
          "execution_count": 28
        }
      ]
    },
    {
      "cell_type": "code",
      "metadata": {
        "id": "m9MNnxfenH0_",
        "colab": {
          "base_uri": "https://localhost:8080/"
        },
        "outputId": "4bbe02df-0942-44fd-9176-005c9766e4ac"
      },
      "source": [
        "#Intercessão\n",
        "c1 = {1,2,3,4}\n",
        "c2 = {3,4,5}\n",
        "r = c1&c2\n",
        "r"
      ],
      "execution_count": null,
      "outputs": [
        {
          "output_type": "execute_result",
          "data": {
            "text/plain": [
              "{3, 4}"
            ]
          },
          "metadata": {
            "tags": []
          },
          "execution_count": 29
        }
      ]
    },
    {
      "cell_type": "code",
      "metadata": {
        "id": "ZGLK90sBnJjm",
        "colab": {
          "base_uri": "https://localhost:8080/"
        },
        "outputId": "d5dc0df3-18fb-4f3f-adea-ef33c8c8cb77"
      },
      "source": [
        "#União\n",
        "r = c1|c2\n",
        "r"
      ],
      "execution_count": null,
      "outputs": [
        {
          "output_type": "execute_result",
          "data": {
            "text/plain": [
              "{1, 2, 3, 4, 5}"
            ]
          },
          "metadata": {
            "tags": []
          },
          "execution_count": 30
        }
      ]
    },
    {
      "cell_type": "code",
      "metadata": {
        "id": "St6I0uKAnLG-",
        "colab": {
          "base_uri": "https://localhost:8080/"
        },
        "outputId": "903c5cd7-2e70-49ba-fb41-2a224e12df01"
      },
      "source": [
        "#diferença\n",
        "r = c1-c2\n",
        "r"
      ],
      "execution_count": null,
      "outputs": [
        {
          "output_type": "execute_result",
          "data": {
            "text/plain": [
              "{1, 2}"
            ]
          },
          "metadata": {
            "tags": []
          },
          "execution_count": 31
        }
      ]
    },
    {
      "cell_type": "markdown",
      "metadata": {
        "id": "wHUntnL4KX2u"
      },
      "source": [
        "### Manipulação de arquivos"
      ]
    },
    {
      "cell_type": "code",
      "metadata": {
        "id": "4y88SX5KKZ33",
        "colab": {
          "base_uri": "https://localhost:8080/"
        },
        "outputId": "11e08f0e-ec84-441d-9b63-fda493dc5d40"
      },
      "source": [
        "#Cria o arquivo\n",
        "arq = open('arquivo.txt', 'w')\n",
        "arq.write('Python é legal \\n')\n",
        "arq.write('Curso de bs4')\n",
        "arq.close()\n",
        "\n",
        "# Abre o arquivo\n",
        "arq= open('arquivo.txt', 'r')\n",
        "print(arq.read())\n",
        "arq.close()\n",
        "\n"
      ],
      "execution_count": null,
      "outputs": [
        {
          "output_type": "stream",
          "text": [
            "Python é legal \n",
            "Curso de bs4\n"
          ],
          "name": "stdout"
        }
      ]
    },
    {
      "cell_type": "markdown",
      "metadata": {
        "id": "HF6I3vicncpg"
      },
      "source": [
        "Usando o comando with e em seguida open, ao terminar todos os comandos que estão dentro desse bloco, automaticamente é chamado o close.\n",
        "Caso você não use o close como no exemplo acima, ou use o with, o arquivo ficará aberto consumindo memória."
      ]
    },
    {
      "cell_type": "code",
      "metadata": {
        "id": "Fs7socWMna7p",
        "colab": {
          "base_uri": "https://localhost:8080/"
        },
        "outputId": "f7028ce6-0282-4dbf-b45e-00362d7a9ca8"
      },
      "source": [
        "#Abre o arquivo de uma forma mais elegante. \n",
        "with open('arquivo.txt', 'r') as f:\n",
        "  print(f.read())"
      ],
      "execution_count": null,
      "outputs": [
        {
          "output_type": "stream",
          "text": [
            "Python é legal \n",
            "Curso de bs4\n"
          ],
          "name": "stdout"
        }
      ]
    },
    {
      "cell_type": "markdown",
      "metadata": {
        "id": "1Npr60cJMJUO"
      },
      "source": [
        "Loops e laços de repetição"
      ]
    },
    {
      "cell_type": "code",
      "metadata": {
        "colab": {
          "base_uri": "https://localhost:8080/"
        },
        "id": "0yxjfXz9ZwTX",
        "outputId": "5fb0df41-9762-4673-a106-ea08557720a9"
      },
      "source": [
        "cont = 1\n",
        "while cont <=10:\n",
        "  cont = cont + 1\n",
        "  print('Não vou mais entrar no whatsapp')"
      ],
      "execution_count": null,
      "outputs": [
        {
          "output_type": "stream",
          "text": [
            "Não vou mais entrar no whatsapp\n",
            "Não vou mais entrar no whatsapp\n",
            "Não vou mais entrar no whatsapp\n",
            "Não vou mais entrar no whatsapp\n",
            "Não vou mais entrar no whatsapp\n",
            "Não vou mais entrar no whatsapp\n",
            "Não vou mais entrar no whatsapp\n",
            "Não vou mais entrar no whatsapp\n",
            "Não vou mais entrar no whatsapp\n",
            "Não vou mais entrar no whatsapp\n"
          ],
          "name": "stdout"
        }
      ]
    },
    {
      "cell_type": "code",
      "metadata": {
        "id": "EJRVStWKnw5Z",
        "colab": {
          "base_uri": "https://localhost:8080/"
        },
        "outputId": "269346a4-a176-49cf-e352-f9ad61f00ed1"
      },
      "source": [
        "'''\n",
        "Laço usando FOR pulando de 2 em 2 a partir do 1 até o 9.\n",
        "Adicionei a função enumerate pra saber em qual iteração está.\n",
        "'''\n",
        "\n",
        "for i, qualquernome in enumerate(range(1,10,2)):\n",
        "  print(f'É a {qualquernome}º vez que eu falo: ')\n",
        "  print('\"Não vou mais entrar no whatsapp\"\\n')\n",
        "print('Só sei contar usando números ímpares.')"
      ],
      "execution_count": null,
      "outputs": [
        {
          "output_type": "stream",
          "text": [
            "É a 1º vez que eu falo: \n",
            "\"Não vou mais entrar no whatsapp\"\n",
            "\n",
            "É a 3º vez que eu falo: \n",
            "\"Não vou mais entrar no whatsapp\"\n",
            "\n",
            "É a 5º vez que eu falo: \n",
            "\"Não vou mais entrar no whatsapp\"\n",
            "\n",
            "É a 7º vez que eu falo: \n",
            "\"Não vou mais entrar no whatsapp\"\n",
            "\n",
            "É a 9º vez que eu falo: \n",
            "\"Não vou mais entrar no whatsapp\"\n",
            "\n",
            "Só sei contar usando números ímpares.\n"
          ],
          "name": "stdout"
        }
      ]
    },
    {
      "cell_type": "markdown",
      "metadata": {
        "id": "8rTWs_4da3xC"
      },
      "source": [
        "### Criação de funções"
      ]
    },
    {
      "cell_type": "code",
      "metadata": {
        "colab": {
          "base_uri": "https://localhost:8080/"
        },
        "id": "wbm8ETDca7kX",
        "outputId": "4cae0a7d-c6b0-4248-e889-05bc933de0d1"
      },
      "source": [
        "def media(n1, n2):\n",
        "  result = (n1 + n2) / 2\n",
        "  return result\n",
        "\n",
        "r = media(10, 20)\n",
        "print(f'A média é {r:.10f}')\n",
        "print(f'Ou se preferir {r:.0f}')\n",
        "\n",
        "#float\n",
        "r = 1.59\n",
        "s = 1254.40\n",
        "t = 1259785.20\n",
        "print(f'R$ {r:010.2f}')\n",
        "print(f'R$ {s:010.2f}')\n",
        "print(f'R$ {t:10.2f}\\n')\n",
        "\n",
        "\n",
        "#inteiro\n",
        "print('data de aniversário: {:02d}/{:02d}/{:0d}'.format(9,1,2001))"
      ],
      "execution_count": null,
      "outputs": [
        {
          "output_type": "stream",
          "text": [
            "A média é 15.0000000000\n",
            "Ou se preferir 15\n",
            "R$ 0000001.59\n",
            "R$ 0001254.40\n",
            "R$ 1259785.20\n",
            "\n",
            "data de aniversário: 09/01/2001\n"
          ],
          "name": "stdout"
        }
      ]
    },
    {
      "cell_type": "code",
      "metadata": {
        "id": "6My8cE0BR9A6",
        "colab": {
          "base_uri": "https://localhost:8080/"
        },
        "outputId": "fb771337-e5bf-4a3f-d8f2-6f306471996d"
      },
      "source": [
        "import random\n",
        "print('*********************************')\n",
        "print('Bem vindo no jogo de adivinhação!')\n",
        "print('*********************************')\n",
        "\n",
        "numerosecreto = round(random.randrange(1,101))\n",
        "tdt = 3 #total de tentativas\n",
        "\n",
        "\n",
        "print('Qual o nível de dificuldade? ')\n",
        "print('(1) Fácil (2) Médio (3) Difícil')\n",
        "nivel = int(input('Defina o nível:'))\n",
        "\n",
        "if nivel == 1:\n",
        "  tdt = 20\n",
        "elif nivel == 2:\n",
        "  tdt = 10\n",
        "else:\n",
        "  tdt = 5\n",
        "\n",
        "\n",
        "'''\n",
        "while rodada <= tdt: \n",
        "  print(f'Tentativa {rodada} de {tdt}')\n",
        "  chute = int(input('Digite o seu número: '))\n",
        "  print('O seu número é: ', chute)\n",
        "'''\n",
        "for rodada in range(1, tdt + 1): \n",
        "  print(f'Tentativa {rodada} de {tdt}')\n",
        "  chute = int(input('Digite um número entre 1 e 100: '))\n",
        "\n",
        "  #sugestão: usar número aleatório.\n",
        "  # https://www.w3schools.com/python/ref_random_randint.asp\n",
        "  # precisa importar biblioteca random -> 'import random'\n",
        "  # chute = random.randint(1,100)\n",
        "  \n",
        "  print('O seu número é: ', chute)\n",
        "\n",
        "  if chute <1 or chute >100:\n",
        "    print('Erro! Digite um número entre 1 e 100!')\n",
        "    continue\n",
        "\n",
        "\n",
        "  acertou = chute == numerosecreto\n",
        "  maior = chute > numerosecreto  \n",
        "\n",
        "#quando usar o for sempre colocar o break para não gerar um loop  \n",
        "  if acertou:\n",
        "    print('Parabéns, Você acertou!!')\n",
        "    break\n",
        "  else:\n",
        "    if maior:\n",
        "      print('Você está perto, o seu chute foi maior que o número secreto.')\n",
        "    else:\n",
        "      print('Você está perto, o seu chute foi menor que o número secreto.')\n",
        "  \n",
        " \n",
        "\n",
        "  #rodada = rodada + 1\n"
      ],
      "execution_count": null,
      "outputs": [
        {
          "output_type": "stream",
          "text": [
            "*********************************\n",
            "Bem vindo no jogo de adivinhação!\n",
            "*********************************\n",
            "Qual o nível de dificuldade? \n",
            "(1) Fácil (2) Médio (3) Difícil\n",
            "Defina o nível:2\n",
            "Tentativa 1 de 10\n",
            "Digite um número entre 1 e 100: 90\n",
            "O seu número é:  90\n",
            "Você está perto, o seu chute foi maior que o número secreto.\n",
            "Tentativa 2 de 10\n",
            "Digite um número entre 1 e 100: 70\n",
            "O seu número é:  70\n",
            "Você está perto, o seu chute foi maior que o número secreto.\n",
            "Tentativa 3 de 10\n",
            "Digite um número entre 1 e 100: 50\n",
            "O seu número é:  50\n",
            "Você está perto, o seu chute foi menor que o número secreto.\n",
            "Tentativa 4 de 10\n",
            "Digite um número entre 1 e 100: 60\n",
            "O seu número é:  60\n",
            "Você está perto, o seu chute foi menor que o número secreto.\n",
            "Tentativa 5 de 10\n",
            "Digite um número entre 1 e 100: 70\n",
            "O seu número é:  70\n",
            "Você está perto, o seu chute foi maior que o número secreto.\n",
            "Tentativa 6 de 10\n",
            "Digite um número entre 1 e 100: 65\n",
            "O seu número é:  65\n",
            "Você está perto, o seu chute foi maior que o número secreto.\n",
            "Tentativa 7 de 10\n",
            "Digite um número entre 1 e 100: 62\n",
            "O seu número é:  62\n",
            "Parabéns, Você acertou!!\n"
          ],
          "name": "stdout"
        }
      ]
    },
    {
      "cell_type": "code",
      "metadata": {
        "id": "8jGjhMklWFkd"
      },
      "source": [
        ""
      ],
      "execution_count": null,
      "outputs": []
    }
  ]
}